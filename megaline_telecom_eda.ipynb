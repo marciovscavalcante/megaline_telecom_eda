{
 "cells": [
  {
   "cell_type": "markdown",
   "metadata": {
    "id": "eAkbw7Ueuj8X"
   },
   "source": [
    "<html>\n",
    "<head>\n",
    "    <style>\n",
    "        h1, h2, h3 {\n",
    "            text-align: center;\n",
    "            line-height: 0.6;\n",
    "        }\n",
    "    </style>\n",
    "</head>\n",
    "<body>\n",
    "\n",
    "<h1>AVALIAÇÃO DE DESEMPENHO DOS PLANOS DE SERVIÇOS:</h1>\n",
    "<h2>Impacto na Receita e Implicações para Estratégias de Marketing</h2>\n",
    "\n",
    "<p style=\"text-align: justify; margin-top: 40px; line-height: 1.6; font-size: 16px;\">Este projeto visa analisar os dados dos serviços da empresa de telecomunicações Megaline (Chamadas (ligações), Mensagens (SMS) e Internet (dados)) a fim de demonstrar qual dos seus planos de assinatura, \"Surf\" e \"Ultimate\", gera mais receita e assim ajustar o orçamento de publicidade.</p>\n",
    "\n",
    "</body>\n",
    "</html>\n"
   ]
  },
  {
   "cell_type": "markdown",
   "metadata": {
    "id": "lnomf-3Xuj8b"
   },
   "source": [
    "### IMPORTAÇÃO DOS DADOS"
   ]
  },
  {
   "cell_type": "code",
   "execution_count": 1,
   "metadata": {
    "id": "JdJusn5ouj8c"
   },
   "outputs": [],
   "source": [
    "# Carregando todas as bibliotecas\n",
    "import pandas as pd\n",
    "import numpy as np\n",
    "from scipy import stats as st\n",
    "from matplotlib import pyplot as plt\n",
    "import seaborn as sns"
   ]
  },
  {
   "cell_type": "markdown",
   "metadata": {
    "id": "rzqsCrgquj8d"
   },
   "source": [
    "### CARREGAMENTO DOS DADOS"
   ]
  },
  {
   "cell_type": "code",
   "execution_count": 2,
   "metadata": {
    "id": "HmzmQRXIuj8e"
   },
   "outputs": [],
   "source": [
    "# Carregue os arquivos de dados em diferentes DataFrames\n",
    "plans_df = pd.read_csv('https://practicum-content.s3.us-west-1.amazonaws.com/datasets/megaline_plans.csv')\n",
    "users_df = pd.read_csv('https://practicum-content.s3.us-west-1.amazonaws.com/datasets/megaline_users.csv')\n",
    "calls_df = pd.read_csv('https://practicum-content.s3.us-west-1.amazonaws.com/datasets/megaline_calls.csv')\n",
    "messages_df = pd.read_csv('https://practicum-content.s3.us-west-1.amazonaws.com/datasets/megaline_messages.csv')\n",
    "internet_df = pd.read_csv('https://practicum-content.s3.us-west-1.amazonaws.com/datasets/megaline_internet.csv')"
   ]
  },
  {
   "cell_type": "markdown",
   "metadata": {
    "id": "XQh-EeiIuj8e"
   },
   "source": [
    "### PREPARAÇÃO DOS DADOS"
   ]
  },
  {
   "cell_type": "markdown",
   "metadata": {
    "id": "TlZUw_Cyuj8f"
   },
   "source": [
    "### Dados dos Planos"
   ]
  },
  {
   "cell_type": "code",
   "execution_count": 3,
   "metadata": {
    "id": "x9qB5mAOuj8f"
   },
   "outputs": [
    {
     "name": "stdout",
     "output_type": "stream",
     "text": [
      "<class 'pandas.core.frame.DataFrame'>\n",
      "RangeIndex: 2 entries, 0 to 1\n",
      "Data columns (total 8 columns):\n",
      " #   Column                 Non-Null Count  Dtype  \n",
      "---  ------                 --------------  -----  \n",
      " 0   messages_included      2 non-null      int64  \n",
      " 1   mb_per_month_included  2 non-null      int64  \n",
      " 2   minutes_included       2 non-null      int64  \n",
      " 3   usd_monthly_pay        2 non-null      int64  \n",
      " 4   usd_per_gb             2 non-null      int64  \n",
      " 5   usd_per_message        2 non-null      float64\n",
      " 6   usd_per_minute         2 non-null      float64\n",
      " 7   plan_name              2 non-null      object \n",
      "dtypes: float64(2), int64(5), object(1)\n",
      "memory usage: 260.0+ bytes\n",
      "None\n"
     ]
    }
   ],
   "source": [
    "# Imprima as informações gerais/resumidas sobre o DataFrame dos planos\n",
    "print(plans_df.info())"
   ]
  },
  {
   "cell_type": "code",
   "execution_count": 4,
   "metadata": {
    "id": "9MRo7tyVuj8f"
   },
   "outputs": [
    {
     "data": {
      "text/html": [
       "<div>\n",
       "<style scoped>\n",
       "    .dataframe tbody tr th:only-of-type {\n",
       "        vertical-align: middle;\n",
       "    }\n",
       "\n",
       "    .dataframe tbody tr th {\n",
       "        vertical-align: top;\n",
       "    }\n",
       "\n",
       "    .dataframe thead th {\n",
       "        text-align: right;\n",
       "    }\n",
       "</style>\n",
       "<table border=\"1\" class=\"dataframe\">\n",
       "  <thead>\n",
       "    <tr style=\"text-align: right;\">\n",
       "      <th></th>\n",
       "      <th>messages_included</th>\n",
       "      <th>mb_per_month_included</th>\n",
       "      <th>minutes_included</th>\n",
       "      <th>usd_monthly_pay</th>\n",
       "      <th>usd_per_gb</th>\n",
       "      <th>usd_per_message</th>\n",
       "      <th>usd_per_minute</th>\n",
       "      <th>plan_name</th>\n",
       "    </tr>\n",
       "  </thead>\n",
       "  <tbody>\n",
       "    <tr>\n",
       "      <th>0</th>\n",
       "      <td>50</td>\n",
       "      <td>15360</td>\n",
       "      <td>500</td>\n",
       "      <td>20</td>\n",
       "      <td>10</td>\n",
       "      <td>0.03</td>\n",
       "      <td>0.03</td>\n",
       "      <td>surf</td>\n",
       "    </tr>\n",
       "    <tr>\n",
       "      <th>1</th>\n",
       "      <td>1000</td>\n",
       "      <td>30720</td>\n",
       "      <td>3000</td>\n",
       "      <td>70</td>\n",
       "      <td>7</td>\n",
       "      <td>0.01</td>\n",
       "      <td>0.01</td>\n",
       "      <td>ultimate</td>\n",
       "    </tr>\n",
       "  </tbody>\n",
       "</table>\n",
       "</div>"
      ],
      "text/plain": [
       "   messages_included  mb_per_month_included  minutes_included  \\\n",
       "0                 50                  15360               500   \n",
       "1               1000                  30720              3000   \n",
       "\n",
       "   usd_monthly_pay  usd_per_gb  usd_per_message  usd_per_minute plan_name  \n",
       "0               20          10             0.03            0.03      surf  \n",
       "1               70           7             0.01            0.01  ultimate  "
      ]
     },
     "execution_count": 4,
     "metadata": {},
     "output_type": "execute_result"
    }
   ],
   "source": [
    "# Imprima uma amostra de dados dos planos\n",
    "plans_df.head()"
   ]
  },
  {
   "cell_type": "markdown",
   "metadata": {
    "id": "YJg2O9qjuj8g"
   },
   "source": [
    "### Dados dos Usuários"
   ]
  },
  {
   "cell_type": "code",
   "execution_count": 5,
   "metadata": {
    "id": "7JzxwD2juj8g"
   },
   "outputs": [
    {
     "name": "stdout",
     "output_type": "stream",
     "text": [
      "<class 'pandas.core.frame.DataFrame'>\n",
      "RangeIndex: 500 entries, 0 to 499\n",
      "Data columns (total 8 columns):\n",
      " #   Column      Non-Null Count  Dtype \n",
      "---  ------      --------------  ----- \n",
      " 0   user_id     500 non-null    int64 \n",
      " 1   first_name  500 non-null    object\n",
      " 2   last_name   500 non-null    object\n",
      " 3   age         500 non-null    int64 \n",
      " 4   city        500 non-null    object\n",
      " 5   reg_date    500 non-null    object\n",
      " 6   plan        500 non-null    object\n",
      " 7   churn_date  34 non-null     object\n",
      "dtypes: int64(2), object(6)\n",
      "memory usage: 31.4+ KB\n"
     ]
    }
   ],
   "source": [
    "# Imprima as informações gerais/resumidas sobre o DataFrame dos usuários\n",
    "users_df.info()"
   ]
  },
  {
   "cell_type": "code",
   "execution_count": 6,
   "metadata": {
    "id": "5KZ8XmD8uj8g"
   },
   "outputs": [
    {
     "data": {
      "text/html": [
       "<div>\n",
       "<style scoped>\n",
       "    .dataframe tbody tr th:only-of-type {\n",
       "        vertical-align: middle;\n",
       "    }\n",
       "\n",
       "    .dataframe tbody tr th {\n",
       "        vertical-align: top;\n",
       "    }\n",
       "\n",
       "    .dataframe thead th {\n",
       "        text-align: right;\n",
       "    }\n",
       "</style>\n",
       "<table border=\"1\" class=\"dataframe\">\n",
       "  <thead>\n",
       "    <tr style=\"text-align: right;\">\n",
       "      <th></th>\n",
       "      <th>user_id</th>\n",
       "      <th>first_name</th>\n",
       "      <th>last_name</th>\n",
       "      <th>age</th>\n",
       "      <th>city</th>\n",
       "      <th>reg_date</th>\n",
       "      <th>plan</th>\n",
       "      <th>churn_date</th>\n",
       "    </tr>\n",
       "  </thead>\n",
       "  <tbody>\n",
       "    <tr>\n",
       "      <th>0</th>\n",
       "      <td>1000</td>\n",
       "      <td>Anamaria</td>\n",
       "      <td>Bauer</td>\n",
       "      <td>45</td>\n",
       "      <td>Atlanta-Sandy Springs-Roswell, GA MSA</td>\n",
       "      <td>2018-12-24</td>\n",
       "      <td>ultimate</td>\n",
       "      <td>NaN</td>\n",
       "    </tr>\n",
       "    <tr>\n",
       "      <th>1</th>\n",
       "      <td>1001</td>\n",
       "      <td>Mickey</td>\n",
       "      <td>Wilkerson</td>\n",
       "      <td>28</td>\n",
       "      <td>Seattle-Tacoma-Bellevue, WA MSA</td>\n",
       "      <td>2018-08-13</td>\n",
       "      <td>surf</td>\n",
       "      <td>NaN</td>\n",
       "    </tr>\n",
       "    <tr>\n",
       "      <th>2</th>\n",
       "      <td>1002</td>\n",
       "      <td>Carlee</td>\n",
       "      <td>Hoffman</td>\n",
       "      <td>36</td>\n",
       "      <td>Las Vegas-Henderson-Paradise, NV MSA</td>\n",
       "      <td>2018-10-21</td>\n",
       "      <td>surf</td>\n",
       "      <td>NaN</td>\n",
       "    </tr>\n",
       "    <tr>\n",
       "      <th>3</th>\n",
       "      <td>1003</td>\n",
       "      <td>Reynaldo</td>\n",
       "      <td>Jenkins</td>\n",
       "      <td>52</td>\n",
       "      <td>Tulsa, OK MSA</td>\n",
       "      <td>2018-01-28</td>\n",
       "      <td>surf</td>\n",
       "      <td>NaN</td>\n",
       "    </tr>\n",
       "    <tr>\n",
       "      <th>4</th>\n",
       "      <td>1004</td>\n",
       "      <td>Leonila</td>\n",
       "      <td>Thompson</td>\n",
       "      <td>40</td>\n",
       "      <td>Seattle-Tacoma-Bellevue, WA MSA</td>\n",
       "      <td>2018-05-23</td>\n",
       "      <td>surf</td>\n",
       "      <td>NaN</td>\n",
       "    </tr>\n",
       "  </tbody>\n",
       "</table>\n",
       "</div>"
      ],
      "text/plain": [
       "   user_id first_name  last_name  age                                   city  \\\n",
       "0     1000   Anamaria      Bauer   45  Atlanta-Sandy Springs-Roswell, GA MSA   \n",
       "1     1001     Mickey  Wilkerson   28        Seattle-Tacoma-Bellevue, WA MSA   \n",
       "2     1002     Carlee    Hoffman   36   Las Vegas-Henderson-Paradise, NV MSA   \n",
       "3     1003   Reynaldo    Jenkins   52                          Tulsa, OK MSA   \n",
       "4     1004    Leonila   Thompson   40        Seattle-Tacoma-Bellevue, WA MSA   \n",
       "\n",
       "     reg_date      plan churn_date  \n",
       "0  2018-12-24  ultimate        NaN  \n",
       "1  2018-08-13      surf        NaN  \n",
       "2  2018-10-21      surf        NaN  \n",
       "3  2018-01-28      surf        NaN  \n",
       "4  2018-05-23      surf        NaN  "
      ]
     },
     "execution_count": 6,
     "metadata": {},
     "output_type": "execute_result"
    }
   ],
   "source": [
    "# Imprima uma amostra de dados dos usuários\n",
    "users_df.head(5)"
   ]
  },
  {
   "cell_type": "markdown",
   "metadata": {
    "id": "XGCgkfLvuj8h"
   },
   "source": [
    "<div class=\"alert alert-block alert-info\">\n",
    "<b>Observações:</b> <a class=\"tocSkip\"></a>\n",
    "\n",
    "- Observando os dados gerais do DataFrame podemos observar que há dados ausentes em uma das colunas, a 'churn_date' e na amostra vemos que esses dados são do tipo NaN demonstrando que alguns dos usuários cancelaram os planos. Criaremos uma nova coluna booleana para filtrar essas linhas para fins de análise se necessário.\n",
    "    \n",
    "- Converteremos as colunas com datas para o tipo 'datetime' e as colunas com valores em maiúsculas para lower case também.\n",
    "    \n",
    "- Criaremos uma coluna apenas com os meses extraindo das colunas com datas.\n",
    "\n",
    "</div>"
   ]
  },
  {
   "cell_type": "markdown",
   "metadata": {
    "id": "ppiEfe3luj8i"
   },
   "source": [
    "### Correção dos dados"
   ]
  },
  {
   "cell_type": "code",
   "execution_count": 7,
   "metadata": {
    "id": "Oa1XFooouj8j"
   },
   "outputs": [
    {
     "name": "stdout",
     "output_type": "stream",
     "text": [
      "<class 'pandas.core.frame.DataFrame'>\n",
      "RangeIndex: 500 entries, 0 to 499\n",
      "Data columns (total 8 columns):\n",
      " #   Column      Non-Null Count  Dtype         \n",
      "---  ------      --------------  -----         \n",
      " 0   user_id     500 non-null    int64         \n",
      " 1   first_name  500 non-null    object        \n",
      " 2   last_name   500 non-null    object        \n",
      " 3   age         500 non-null    int64         \n",
      " 4   city        500 non-null    object        \n",
      " 5   reg_date    500 non-null    datetime64[ns]\n",
      " 6   plan_name   500 non-null    object        \n",
      " 7   churn_date  34 non-null     datetime64[ns]\n",
      "dtypes: datetime64[ns](2), int64(2), object(4)\n",
      "memory usage: 31.4+ KB\n"
     ]
    },
    {
     "data": {
      "text/html": [
       "<div>\n",
       "<style scoped>\n",
       "    .dataframe tbody tr th:only-of-type {\n",
       "        vertical-align: middle;\n",
       "    }\n",
       "\n",
       "    .dataframe tbody tr th {\n",
       "        vertical-align: top;\n",
       "    }\n",
       "\n",
       "    .dataframe thead th {\n",
       "        text-align: right;\n",
       "    }\n",
       "</style>\n",
       "<table border=\"1\" class=\"dataframe\">\n",
       "  <thead>\n",
       "    <tr style=\"text-align: right;\">\n",
       "      <th></th>\n",
       "      <th>user_id</th>\n",
       "      <th>first_name</th>\n",
       "      <th>last_name</th>\n",
       "      <th>age</th>\n",
       "      <th>city</th>\n",
       "      <th>reg_date</th>\n",
       "      <th>plan_name</th>\n",
       "      <th>churn_date</th>\n",
       "    </tr>\n",
       "  </thead>\n",
       "  <tbody>\n",
       "    <tr>\n",
       "      <th>129</th>\n",
       "      <td>1129</td>\n",
       "      <td>marin</td>\n",
       "      <td>bolton</td>\n",
       "      <td>70</td>\n",
       "      <td>baton rouge, la msa</td>\n",
       "      <td>2018-11-10</td>\n",
       "      <td>surf</td>\n",
       "      <td>2018-12-27</td>\n",
       "    </tr>\n",
       "    <tr>\n",
       "      <th>388</th>\n",
       "      <td>1388</td>\n",
       "      <td>thu</td>\n",
       "      <td>noel</td>\n",
       "      <td>75</td>\n",
       "      <td>new york-newark-jersey city, ny-nj-pa msa</td>\n",
       "      <td>2018-03-28</td>\n",
       "      <td>ultimate</td>\n",
       "      <td>NaT</td>\n",
       "    </tr>\n",
       "    <tr>\n",
       "      <th>218</th>\n",
       "      <td>1218</td>\n",
       "      <td>stanford</td>\n",
       "      <td>pena</td>\n",
       "      <td>23</td>\n",
       "      <td>bakersfield, ca msa</td>\n",
       "      <td>2018-01-16</td>\n",
       "      <td>surf</td>\n",
       "      <td>NaT</td>\n",
       "    </tr>\n",
       "    <tr>\n",
       "      <th>426</th>\n",
       "      <td>1426</td>\n",
       "      <td>lamont</td>\n",
       "      <td>conner</td>\n",
       "      <td>44</td>\n",
       "      <td>san francisco-oakland-berkeley, ca msa</td>\n",
       "      <td>2018-07-09</td>\n",
       "      <td>ultimate</td>\n",
       "      <td>NaT</td>\n",
       "    </tr>\n",
       "    <tr>\n",
       "      <th>287</th>\n",
       "      <td>1287</td>\n",
       "      <td>heide</td>\n",
       "      <td>gill</td>\n",
       "      <td>74</td>\n",
       "      <td>sacramento–roseville–folsom, ca msa</td>\n",
       "      <td>2018-03-15</td>\n",
       "      <td>surf</td>\n",
       "      <td>NaT</td>\n",
       "    </tr>\n",
       "  </tbody>\n",
       "</table>\n",
       "</div>"
      ],
      "text/plain": [
       "     user_id first_name last_name  age  \\\n",
       "129     1129      marin    bolton   70   \n",
       "388     1388        thu      noel   75   \n",
       "218     1218   stanford      pena   23   \n",
       "426     1426     lamont    conner   44   \n",
       "287     1287      heide      gill   74   \n",
       "\n",
       "                                          city   reg_date plan_name churn_date  \n",
       "129                        baton rouge, la msa 2018-11-10      surf 2018-12-27  \n",
       "388  new york-newark-jersey city, ny-nj-pa msa 2018-03-28  ultimate        NaT  \n",
       "218                        bakersfield, ca msa 2018-01-16      surf        NaT  \n",
       "426     san francisco-oakland-berkeley, ca msa 2018-07-09  ultimate        NaT  \n",
       "287        sacramento–roseville–folsom, ca msa 2018-03-15      surf        NaT  "
      ]
     },
     "execution_count": 7,
     "metadata": {},
     "output_type": "execute_result"
    }
   ],
   "source": [
    "# Convertendo os dados para lower case\n",
    "users_df['first_name'] = users_df['first_name'].str.lower()\n",
    "users_df['last_name'] = users_df['last_name'].str.lower()\n",
    "users_df['city'] = users_df['city'].str.lower()\n",
    "\n",
    "# Convertendo colunas para 'datetime'\n",
    "users_df['reg_date'] = pd.to_datetime(users_df['reg_date'], format='%Y-%m-%d')\n",
    "users_df['churn_date'] = pd.to_datetime(users_df['churn_date'], format='%Y-%m-%d')\n",
    "\n",
    "#renomeando a coluna 'plan' para 'plan_name'\n",
    "users_df = users_df.rename(columns={'plan': 'plan_name'})\n",
    "\n",
    "users_df.info()\n",
    "users_df.sample(5)"
   ]
  },
  {
   "cell_type": "markdown",
   "metadata": {
    "id": "H3gpde3Juj8j"
   },
   "source": [
    "### Enriquecimento dos dados (Criação de novas colunas)"
   ]
  },
  {
   "cell_type": "code",
   "execution_count": 8,
   "metadata": {
    "id": "4vuUjT2juj8j"
   },
   "outputs": [
    {
     "data": {
      "text/html": [
       "<div>\n",
       "<style scoped>\n",
       "    .dataframe tbody tr th:only-of-type {\n",
       "        vertical-align: middle;\n",
       "    }\n",
       "\n",
       "    .dataframe tbody tr th {\n",
       "        vertical-align: top;\n",
       "    }\n",
       "\n",
       "    .dataframe thead th {\n",
       "        text-align: right;\n",
       "    }\n",
       "</style>\n",
       "<table border=\"1\" class=\"dataframe\">\n",
       "  <thead>\n",
       "    <tr style=\"text-align: right;\">\n",
       "      <th></th>\n",
       "      <th>user_id</th>\n",
       "      <th>first_name</th>\n",
       "      <th>last_name</th>\n",
       "      <th>age</th>\n",
       "      <th>city</th>\n",
       "      <th>reg_date</th>\n",
       "      <th>plan_name</th>\n",
       "      <th>churn_date</th>\n",
       "      <th>churn_bool</th>\n",
       "      <th>reg_mes</th>\n",
       "      <th>churn_mes</th>\n",
       "      <th>state</th>\n",
       "    </tr>\n",
       "  </thead>\n",
       "  <tbody>\n",
       "    <tr>\n",
       "      <th>14</th>\n",
       "      <td>1014</td>\n",
       "      <td>edmundo</td>\n",
       "      <td>simon</td>\n",
       "      <td>61</td>\n",
       "      <td>new york-newark-jersey city</td>\n",
       "      <td>2018-11-25</td>\n",
       "      <td>surf</td>\n",
       "      <td>NaT</td>\n",
       "      <td>0</td>\n",
       "      <td>11</td>\n",
       "      <td>NaN</td>\n",
       "      <td>ny-nj-pa msa</td>\n",
       "    </tr>\n",
       "    <tr>\n",
       "      <th>229</th>\n",
       "      <td>1229</td>\n",
       "      <td>augustus</td>\n",
       "      <td>barker</td>\n",
       "      <td>69</td>\n",
       "      <td>austin-round rock-georgetown</td>\n",
       "      <td>2018-12-09</td>\n",
       "      <td>ultimate</td>\n",
       "      <td>NaT</td>\n",
       "      <td>0</td>\n",
       "      <td>12</td>\n",
       "      <td>NaN</td>\n",
       "      <td>tx msa</td>\n",
       "    </tr>\n",
       "    <tr>\n",
       "      <th>117</th>\n",
       "      <td>1117</td>\n",
       "      <td>hank</td>\n",
       "      <td>taylor</td>\n",
       "      <td>49</td>\n",
       "      <td>dallas-fort worth-arlington</td>\n",
       "      <td>2018-01-24</td>\n",
       "      <td>surf</td>\n",
       "      <td>NaT</td>\n",
       "      <td>0</td>\n",
       "      <td>1</td>\n",
       "      <td>NaN</td>\n",
       "      <td>tx msa</td>\n",
       "    </tr>\n",
       "    <tr>\n",
       "      <th>343</th>\n",
       "      <td>1343</td>\n",
       "      <td>teresia</td>\n",
       "      <td>ewing</td>\n",
       "      <td>43</td>\n",
       "      <td>miami-fort lauderdale-west palm beach</td>\n",
       "      <td>2018-08-23</td>\n",
       "      <td>surf</td>\n",
       "      <td>NaT</td>\n",
       "      <td>0</td>\n",
       "      <td>8</td>\n",
       "      <td>NaN</td>\n",
       "      <td>fl msa</td>\n",
       "    </tr>\n",
       "    <tr>\n",
       "      <th>498</th>\n",
       "      <td>1498</td>\n",
       "      <td>scot</td>\n",
       "      <td>williamson</td>\n",
       "      <td>51</td>\n",
       "      <td>new york-newark-jersey city</td>\n",
       "      <td>2018-02-04</td>\n",
       "      <td>surf</td>\n",
       "      <td>NaT</td>\n",
       "      <td>0</td>\n",
       "      <td>2</td>\n",
       "      <td>NaN</td>\n",
       "      <td>ny-nj-pa msa</td>\n",
       "    </tr>\n",
       "  </tbody>\n",
       "</table>\n",
       "</div>"
      ],
      "text/plain": [
       "     user_id first_name   last_name  age  \\\n",
       "14      1014    edmundo       simon   61   \n",
       "229     1229   augustus      barker   69   \n",
       "117     1117       hank      taylor   49   \n",
       "343     1343    teresia       ewing   43   \n",
       "498     1498       scot  williamson   51   \n",
       "\n",
       "                                      city   reg_date plan_name churn_date  \\\n",
       "14             new york-newark-jersey city 2018-11-25      surf        NaT   \n",
       "229           austin-round rock-georgetown 2018-12-09  ultimate        NaT   \n",
       "117            dallas-fort worth-arlington 2018-01-24      surf        NaT   \n",
       "343  miami-fort lauderdale-west palm beach 2018-08-23      surf        NaT   \n",
       "498            new york-newark-jersey city 2018-02-04      surf        NaT   \n",
       "\n",
       "     churn_bool  reg_mes  churn_mes          state  \n",
       "14            0       11        NaN   ny-nj-pa msa  \n",
       "229           0       12        NaN         tx msa  \n",
       "117           0        1        NaN         tx msa  \n",
       "343           0        8        NaN         fl msa  \n",
       "498           0        2        NaN   ny-nj-pa msa  "
      ]
     },
     "execution_count": 8,
     "metadata": {},
     "output_type": "execute_result"
    }
   ],
   "source": [
    "# Preenchendo uma nova coluna booleana de churn (flag)\n",
    "def preencher_churn_new(row):\n",
    "  if pd.isnull(row['churn_date']):\n",
    "    return 0\n",
    "  else:\n",
    "    return 1\n",
    "\n",
    "users_df['churn_bool'] = users_df.apply(preencher_churn_new, axis=1)\n",
    "\n",
    "# Criando coluna de meses\n",
    "users_df['reg_mes'] = users_df['reg_date'].dt.month\n",
    "users_df['churn_mes'] = users_df['churn_date'].dt.month\n",
    "\n",
    "# Criando coluna state a partir da coluna city\n",
    "users_df[['city', 'state']] = users_df['city'].str.split(',', expand=True)\n",
    "\n",
    "users_df.sample(5)\n"
   ]
  },
  {
   "cell_type": "markdown",
   "metadata": {
    "id": "f4uSIMuuuj8j"
   },
   "source": [
    "### Dados das Chamadas"
   ]
  },
  {
   "cell_type": "code",
   "execution_count": 9,
   "metadata": {
    "id": "hkY01fJnuj8j"
   },
   "outputs": [
    {
     "name": "stdout",
     "output_type": "stream",
     "text": [
      "<class 'pandas.core.frame.DataFrame'>\n",
      "RangeIndex: 137735 entries, 0 to 137734\n",
      "Data columns (total 4 columns):\n",
      " #   Column     Non-Null Count   Dtype  \n",
      "---  ------     --------------   -----  \n",
      " 0   id         137735 non-null  object \n",
      " 1   user_id    137735 non-null  int64  \n",
      " 2   call_date  137735 non-null  object \n",
      " 3   duration   137735 non-null  float64\n",
      "dtypes: float64(1), int64(1), object(2)\n",
      "memory usage: 4.2+ MB\n"
     ]
    }
   ],
   "source": [
    "# Imprima as informações gerais/resumidas sobre o DataFrame das chamadas\n",
    "calls_df.info()"
   ]
  },
  {
   "cell_type": "code",
   "execution_count": 10,
   "metadata": {
    "id": "wdBwJG5Yuj8k"
   },
   "outputs": [
    {
     "data": {
      "text/html": [
       "<div>\n",
       "<style scoped>\n",
       "    .dataframe tbody tr th:only-of-type {\n",
       "        vertical-align: middle;\n",
       "    }\n",
       "\n",
       "    .dataframe tbody tr th {\n",
       "        vertical-align: top;\n",
       "    }\n",
       "\n",
       "    .dataframe thead th {\n",
       "        text-align: right;\n",
       "    }\n",
       "</style>\n",
       "<table border=\"1\" class=\"dataframe\">\n",
       "  <thead>\n",
       "    <tr style=\"text-align: right;\">\n",
       "      <th></th>\n",
       "      <th>id</th>\n",
       "      <th>user_id</th>\n",
       "      <th>call_date</th>\n",
       "      <th>duration</th>\n",
       "    </tr>\n",
       "  </thead>\n",
       "  <tbody>\n",
       "    <tr>\n",
       "      <th>74518</th>\n",
       "      <td>1263_502</td>\n",
       "      <td>1263</td>\n",
       "      <td>2018-08-08</td>\n",
       "      <td>10.28</td>\n",
       "    </tr>\n",
       "    <tr>\n",
       "      <th>777</th>\n",
       "      <td>1004_283</td>\n",
       "      <td>1004</td>\n",
       "      <td>2018-09-03</td>\n",
       "      <td>11.82</td>\n",
       "    </tr>\n",
       "    <tr>\n",
       "      <th>112987</th>\n",
       "      <td>1397_711</td>\n",
       "      <td>1397</td>\n",
       "      <td>2018-12-05</td>\n",
       "      <td>7.06</td>\n",
       "    </tr>\n",
       "    <tr>\n",
       "      <th>61819</th>\n",
       "      <td>1222_466</td>\n",
       "      <td>1222</td>\n",
       "      <td>2018-12-20</td>\n",
       "      <td>5.66</td>\n",
       "    </tr>\n",
       "    <tr>\n",
       "      <th>6568</th>\n",
       "      <td>1031_243</td>\n",
       "      <td>1031</td>\n",
       "      <td>2018-10-11</td>\n",
       "      <td>4.46</td>\n",
       "    </tr>\n",
       "  </tbody>\n",
       "</table>\n",
       "</div>"
      ],
      "text/plain": [
       "              id  user_id   call_date  duration\n",
       "74518   1263_502     1263  2018-08-08     10.28\n",
       "777     1004_283     1004  2018-09-03     11.82\n",
       "112987  1397_711     1397  2018-12-05      7.06\n",
       "61819   1222_466     1222  2018-12-20      5.66\n",
       "6568    1031_243     1031  2018-10-11      4.46"
      ]
     },
     "execution_count": 10,
     "metadata": {},
     "output_type": "execute_result"
    }
   ],
   "source": [
    "# Imprima uma amostra de dados das chamadas\n",
    "calls_df.sample(5)"
   ]
  },
  {
   "cell_type": "markdown",
   "metadata": {
    "id": "x5a99U4xuj8k"
   },
   "source": [
    "### Correção dos dados"
   ]
  },
  {
   "cell_type": "code",
   "execution_count": 11,
   "metadata": {
    "id": "lBjdw0Bnuj8l"
   },
   "outputs": [],
   "source": [
    "# Convertendo coluna para datetime\n",
    "calls_df['call_date'] = pd.to_datetime(calls_df['call_date'], format='%Y-%m-%d')"
   ]
  },
  {
   "cell_type": "markdown",
   "metadata": {
    "id": "MFm5xyh4uj8l"
   },
   "source": [
    "### Enriquecimento dos dados (Criação de coluna)"
   ]
  },
  {
   "cell_type": "code",
   "execution_count": 12,
   "metadata": {
    "id": "nwOKTgfluj8l"
   },
   "outputs": [
    {
     "name": "stdout",
     "output_type": "stream",
     "text": [
      "<class 'pandas.core.frame.DataFrame'>\n",
      "RangeIndex: 137735 entries, 0 to 137734\n",
      "Data columns (total 5 columns):\n",
      " #   Column     Non-Null Count   Dtype         \n",
      "---  ------     --------------   -----         \n",
      " 0   id         137735 non-null  object        \n",
      " 1   user_id    137735 non-null  int64         \n",
      " 2   call_date  137735 non-null  datetime64[ns]\n",
      " 3   duration   137735 non-null  float64       \n",
      " 4   mes        137735 non-null  int32         \n",
      "dtypes: datetime64[ns](1), float64(1), int32(1), int64(1), object(1)\n",
      "memory usage: 4.7+ MB\n"
     ]
    },
    {
     "data": {
      "text/html": [
       "<div>\n",
       "<style scoped>\n",
       "    .dataframe tbody tr th:only-of-type {\n",
       "        vertical-align: middle;\n",
       "    }\n",
       "\n",
       "    .dataframe tbody tr th {\n",
       "        vertical-align: top;\n",
       "    }\n",
       "\n",
       "    .dataframe thead th {\n",
       "        text-align: right;\n",
       "    }\n",
       "</style>\n",
       "<table border=\"1\" class=\"dataframe\">\n",
       "  <thead>\n",
       "    <tr style=\"text-align: right;\">\n",
       "      <th></th>\n",
       "      <th>id</th>\n",
       "      <th>user_id</th>\n",
       "      <th>call_date</th>\n",
       "      <th>duration</th>\n",
       "      <th>mes</th>\n",
       "    </tr>\n",
       "  </thead>\n",
       "  <tbody>\n",
       "    <tr>\n",
       "      <th>59116</th>\n",
       "      <td>1214_185</td>\n",
       "      <td>1214</td>\n",
       "      <td>2018-04-23</td>\n",
       "      <td>17.47</td>\n",
       "      <td>4</td>\n",
       "    </tr>\n",
       "    <tr>\n",
       "      <th>92925</th>\n",
       "      <td>1334_293</td>\n",
       "      <td>1334</td>\n",
       "      <td>2018-05-16</td>\n",
       "      <td>3.73</td>\n",
       "      <td>5</td>\n",
       "    </tr>\n",
       "    <tr>\n",
       "      <th>21587</th>\n",
       "      <td>1079_300</td>\n",
       "      <td>1079</td>\n",
       "      <td>2018-12-27</td>\n",
       "      <td>2.26</td>\n",
       "      <td>12</td>\n",
       "    </tr>\n",
       "    <tr>\n",
       "      <th>68907</th>\n",
       "      <td>1247_240</td>\n",
       "      <td>1247</td>\n",
       "      <td>2018-07-28</td>\n",
       "      <td>13.65</td>\n",
       "      <td>7</td>\n",
       "    </tr>\n",
       "    <tr>\n",
       "      <th>81493</th>\n",
       "      <td>1293_627</td>\n",
       "      <td>1293</td>\n",
       "      <td>2018-10-03</td>\n",
       "      <td>5.27</td>\n",
       "      <td>10</td>\n",
       "    </tr>\n",
       "  </tbody>\n",
       "</table>\n",
       "</div>"
      ],
      "text/plain": [
       "             id  user_id  call_date  duration  mes\n",
       "59116  1214_185     1214 2018-04-23     17.47    4\n",
       "92925  1334_293     1334 2018-05-16      3.73    5\n",
       "21587  1079_300     1079 2018-12-27      2.26   12\n",
       "68907  1247_240     1247 2018-07-28     13.65    7\n",
       "81493  1293_627     1293 2018-10-03      5.27   10"
      ]
     },
     "execution_count": 12,
     "metadata": {},
     "output_type": "execute_result"
    }
   ],
   "source": [
    "# Criando coluna mês\n",
    "calls_df['mes'] = calls_df['call_date'].dt.month\n",
    "\n",
    "calls_df.info()\n",
    "calls_df.sample(5)"
   ]
  },
  {
   "cell_type": "markdown",
   "metadata": {
    "id": "qLz4FkyRuj8l"
   },
   "source": [
    "### Dados das Mensagens"
   ]
  },
  {
   "cell_type": "code",
   "execution_count": 13,
   "metadata": {
    "id": "nFA9DFkCuj8l"
   },
   "outputs": [
    {
     "name": "stdout",
     "output_type": "stream",
     "text": [
      "<class 'pandas.core.frame.DataFrame'>\n",
      "RangeIndex: 76051 entries, 0 to 76050\n",
      "Data columns (total 3 columns):\n",
      " #   Column        Non-Null Count  Dtype \n",
      "---  ------        --------------  ----- \n",
      " 0   id            76051 non-null  object\n",
      " 1   user_id       76051 non-null  int64 \n",
      " 2   message_date  76051 non-null  object\n",
      "dtypes: int64(1), object(2)\n",
      "memory usage: 1.7+ MB\n"
     ]
    }
   ],
   "source": [
    "# Imprima as informações gerais/resumidas sobre o DataFrame das mensagens\n",
    "messages_df.info()"
   ]
  },
  {
   "cell_type": "code",
   "execution_count": 14,
   "metadata": {
    "id": "ysEFBZWxuj8m"
   },
   "outputs": [
    {
     "data": {
      "text/html": [
       "<div>\n",
       "<style scoped>\n",
       "    .dataframe tbody tr th:only-of-type {\n",
       "        vertical-align: middle;\n",
       "    }\n",
       "\n",
       "    .dataframe tbody tr th {\n",
       "        vertical-align: top;\n",
       "    }\n",
       "\n",
       "    .dataframe thead th {\n",
       "        text-align: right;\n",
       "    }\n",
       "</style>\n",
       "<table border=\"1\" class=\"dataframe\">\n",
       "  <thead>\n",
       "    <tr style=\"text-align: right;\">\n",
       "      <th></th>\n",
       "      <th>id</th>\n",
       "      <th>user_id</th>\n",
       "      <th>message_date</th>\n",
       "    </tr>\n",
       "  </thead>\n",
       "  <tbody>\n",
       "    <tr>\n",
       "      <th>29680</th>\n",
       "      <td>1183_75</td>\n",
       "      <td>1183</td>\n",
       "      <td>2018-10-29</td>\n",
       "    </tr>\n",
       "    <tr>\n",
       "      <th>24858</th>\n",
       "      <td>1147_29</td>\n",
       "      <td>1147</td>\n",
       "      <td>2018-05-14</td>\n",
       "    </tr>\n",
       "    <tr>\n",
       "      <th>52253</th>\n",
       "      <td>1336_210</td>\n",
       "      <td>1336</td>\n",
       "      <td>2018-05-11</td>\n",
       "    </tr>\n",
       "    <tr>\n",
       "      <th>25535</th>\n",
       "      <td>1154_118</td>\n",
       "      <td>1154</td>\n",
       "      <td>2018-12-11</td>\n",
       "    </tr>\n",
       "    <tr>\n",
       "      <th>71676</th>\n",
       "      <td>1467_8</td>\n",
       "      <td>1467</td>\n",
       "      <td>2018-06-11</td>\n",
       "    </tr>\n",
       "  </tbody>\n",
       "</table>\n",
       "</div>"
      ],
      "text/plain": [
       "             id  user_id message_date\n",
       "29680   1183_75     1183   2018-10-29\n",
       "24858   1147_29     1147   2018-05-14\n",
       "52253  1336_210     1336   2018-05-11\n",
       "25535  1154_118     1154   2018-12-11\n",
       "71676    1467_8     1467   2018-06-11"
      ]
     },
     "execution_count": 14,
     "metadata": {},
     "output_type": "execute_result"
    }
   ],
   "source": [
    "# Imprima uma amostra dos dados das mensagens\n",
    "messages_df.sample(5)"
   ]
  },
  {
   "cell_type": "markdown",
   "metadata": {
    "id": "tT8N_hc6uj8m"
   },
   "source": [
    "### Correção dos dados"
   ]
  },
  {
   "cell_type": "code",
   "execution_count": 15,
   "metadata": {
    "id": "SpBqbQHCuj8m"
   },
   "outputs": [],
   "source": [
    "# Convertento coluna para datetime\n",
    "messages_df['message_date'] = pd.to_datetime(messages_df['message_date'], format='%Y-%m-%d')"
   ]
  },
  {
   "cell_type": "markdown",
   "metadata": {
    "id": "feV2Njo9uj8n"
   },
   "source": [
    "### Enriquecimento dos dados"
   ]
  },
  {
   "cell_type": "code",
   "execution_count": 16,
   "metadata": {
    "id": "SkuCXcLJuj8n"
   },
   "outputs": [
    {
     "name": "stdout",
     "output_type": "stream",
     "text": [
      "<class 'pandas.core.frame.DataFrame'>\n",
      "RangeIndex: 76051 entries, 0 to 76050\n",
      "Data columns (total 4 columns):\n",
      " #   Column        Non-Null Count  Dtype         \n",
      "---  ------        --------------  -----         \n",
      " 0   id            76051 non-null  object        \n",
      " 1   user_id       76051 non-null  int64         \n",
      " 2   message_date  76051 non-null  datetime64[ns]\n",
      " 3   mes           76051 non-null  int32         \n",
      "dtypes: datetime64[ns](1), int32(1), int64(1), object(1)\n",
      "memory usage: 2.0+ MB\n"
     ]
    },
    {
     "data": {
      "text/html": [
       "<div>\n",
       "<style scoped>\n",
       "    .dataframe tbody tr th:only-of-type {\n",
       "        vertical-align: middle;\n",
       "    }\n",
       "\n",
       "    .dataframe tbody tr th {\n",
       "        vertical-align: top;\n",
       "    }\n",
       "\n",
       "    .dataframe thead th {\n",
       "        text-align: right;\n",
       "    }\n",
       "</style>\n",
       "<table border=\"1\" class=\"dataframe\">\n",
       "  <thead>\n",
       "    <tr style=\"text-align: right;\">\n",
       "      <th></th>\n",
       "      <th>id</th>\n",
       "      <th>user_id</th>\n",
       "      <th>message_date</th>\n",
       "      <th>mes</th>\n",
       "    </tr>\n",
       "  </thead>\n",
       "  <tbody>\n",
       "    <tr>\n",
       "      <th>69143</th>\n",
       "      <td>1448_281</td>\n",
       "      <td>1448</td>\n",
       "      <td>2018-12-03</td>\n",
       "      <td>12</td>\n",
       "    </tr>\n",
       "    <tr>\n",
       "      <th>73623</th>\n",
       "      <td>1472_208</td>\n",
       "      <td>1472</td>\n",
       "      <td>2018-05-30</td>\n",
       "      <td>5</td>\n",
       "    </tr>\n",
       "    <tr>\n",
       "      <th>30525</th>\n",
       "      <td>1193_78</td>\n",
       "      <td>1193</td>\n",
       "      <td>2018-10-17</td>\n",
       "      <td>10</td>\n",
       "    </tr>\n",
       "    <tr>\n",
       "      <th>74916</th>\n",
       "      <td>1487_57</td>\n",
       "      <td>1487</td>\n",
       "      <td>2018-12-24</td>\n",
       "      <td>12</td>\n",
       "    </tr>\n",
       "    <tr>\n",
       "      <th>9406</th>\n",
       "      <td>1069_372</td>\n",
       "      <td>1069</td>\n",
       "      <td>2018-11-23</td>\n",
       "      <td>11</td>\n",
       "    </tr>\n",
       "  </tbody>\n",
       "</table>\n",
       "</div>"
      ],
      "text/plain": [
       "             id  user_id message_date  mes\n",
       "69143  1448_281     1448   2018-12-03   12\n",
       "73623  1472_208     1472   2018-05-30    5\n",
       "30525   1193_78     1193   2018-10-17   10\n",
       "74916   1487_57     1487   2018-12-24   12\n",
       "9406   1069_372     1069   2018-11-23   11"
      ]
     },
     "execution_count": 16,
     "metadata": {},
     "output_type": "execute_result"
    }
   ],
   "source": [
    "# Criando coluna mês\n",
    "messages_df['mes'] = messages_df['message_date'].dt.month\n",
    "\n",
    "messages_df.info()\n",
    "messages_df.sample(5)"
   ]
  },
  {
   "cell_type": "markdown",
   "metadata": {
    "id": "ZRFaOWzGuj8n"
   },
   "source": [
    "### Dados de Internet"
   ]
  },
  {
   "cell_type": "code",
   "execution_count": 17,
   "metadata": {
    "id": "ob3-qv4nuj8n"
   },
   "outputs": [
    {
     "name": "stdout",
     "output_type": "stream",
     "text": [
      "<class 'pandas.core.frame.DataFrame'>\n",
      "RangeIndex: 104825 entries, 0 to 104824\n",
      "Data columns (total 4 columns):\n",
      " #   Column        Non-Null Count   Dtype  \n",
      "---  ------        --------------   -----  \n",
      " 0   id            104825 non-null  object \n",
      " 1   user_id       104825 non-null  int64  \n",
      " 2   session_date  104825 non-null  object \n",
      " 3   mb_used       104825 non-null  float64\n",
      "dtypes: float64(1), int64(1), object(2)\n",
      "memory usage: 3.2+ MB\n"
     ]
    }
   ],
   "source": [
    "# Imprima as informações gerais/resumidas sobre o DataFrame da internet\n",
    "internet_df.info()"
   ]
  },
  {
   "cell_type": "code",
   "execution_count": 18,
   "metadata": {
    "id": "iIHK4fZsuj8n"
   },
   "outputs": [
    {
     "data": {
      "text/html": [
       "<div>\n",
       "<style scoped>\n",
       "    .dataframe tbody tr th:only-of-type {\n",
       "        vertical-align: middle;\n",
       "    }\n",
       "\n",
       "    .dataframe tbody tr th {\n",
       "        vertical-align: top;\n",
       "    }\n",
       "\n",
       "    .dataframe thead th {\n",
       "        text-align: right;\n",
       "    }\n",
       "</style>\n",
       "<table border=\"1\" class=\"dataframe\">\n",
       "  <thead>\n",
       "    <tr style=\"text-align: right;\">\n",
       "      <th></th>\n",
       "      <th>id</th>\n",
       "      <th>user_id</th>\n",
       "      <th>session_date</th>\n",
       "      <th>mb_used</th>\n",
       "    </tr>\n",
       "  </thead>\n",
       "  <tbody>\n",
       "    <tr>\n",
       "      <th>63222</th>\n",
       "      <td>1291_347</td>\n",
       "      <td>1291</td>\n",
       "      <td>2018-09-12</td>\n",
       "      <td>266.84</td>\n",
       "    </tr>\n",
       "    <tr>\n",
       "      <th>84171</th>\n",
       "      <td>1392_139</td>\n",
       "      <td>1392</td>\n",
       "      <td>2018-10-28</td>\n",
       "      <td>197.75</td>\n",
       "    </tr>\n",
       "    <tr>\n",
       "      <th>77818</th>\n",
       "      <td>1362_508</td>\n",
       "      <td>1362</td>\n",
       "      <td>2018-11-04</td>\n",
       "      <td>0.00</td>\n",
       "    </tr>\n",
       "    <tr>\n",
       "      <th>68917</th>\n",
       "      <td>1321_382</td>\n",
       "      <td>1321</td>\n",
       "      <td>2018-06-28</td>\n",
       "      <td>139.75</td>\n",
       "    </tr>\n",
       "    <tr>\n",
       "      <th>83744</th>\n",
       "      <td>1390_299</td>\n",
       "      <td>1390</td>\n",
       "      <td>2018-06-26</td>\n",
       "      <td>849.08</td>\n",
       "    </tr>\n",
       "  </tbody>\n",
       "</table>\n",
       "</div>"
      ],
      "text/plain": [
       "             id  user_id session_date  mb_used\n",
       "63222  1291_347     1291   2018-09-12   266.84\n",
       "84171  1392_139     1392   2018-10-28   197.75\n",
       "77818  1362_508     1362   2018-11-04     0.00\n",
       "68917  1321_382     1321   2018-06-28   139.75\n",
       "83744  1390_299     1390   2018-06-26   849.08"
      ]
     },
     "execution_count": 18,
     "metadata": {},
     "output_type": "execute_result"
    }
   ],
   "source": [
    "#  Imprima uma amostra de dados para o tráfego da internet\n",
    "internet_df.sample(5)"
   ]
  },
  {
   "cell_type": "markdown",
   "metadata": {
    "id": "Tly90YrTuj8o"
   },
   "source": [
    "### Correção dos dados"
   ]
  },
  {
   "cell_type": "code",
   "execution_count": 19,
   "metadata": {
    "id": "GCoX7kbmuj8o"
   },
   "outputs": [],
   "source": [
    "# Convertendo coluna para 'datetime'\n",
    "internet_df['session_date'] = pd.to_datetime(internet_df['session_date'], format='%Y-%m-%d')"
   ]
  },
  {
   "cell_type": "markdown",
   "metadata": {
    "id": "DEDbrtFduj8o"
   },
   "source": [
    "### Enriquecimento dos dados"
   ]
  },
  {
   "cell_type": "code",
   "execution_count": 20,
   "metadata": {
    "id": "f1PoZ3Ukuj8p"
   },
   "outputs": [
    {
     "name": "stdout",
     "output_type": "stream",
     "text": [
      "         id  user_id session_date  mb_used  mes  gb_used\n",
      "0   1000_13     1000   2018-12-29    89.86   12     0.09\n",
      "1  1000_204     1000   2018-12-31     0.00   12     0.00\n",
      "2  1000_379     1000   2018-12-28   660.40   12     0.64\n",
      "3  1000_413     1000   2018-12-26   270.99   12     0.26\n",
      "4  1000_442     1000   2018-12-27   880.22   12     0.86\n"
     ]
    },
    {
     "data": {
      "text/html": [
       "<div>\n",
       "<style scoped>\n",
       "    .dataframe tbody tr th:only-of-type {\n",
       "        vertical-align: middle;\n",
       "    }\n",
       "\n",
       "    .dataframe tbody tr th {\n",
       "        vertical-align: top;\n",
       "    }\n",
       "\n",
       "    .dataframe thead th {\n",
       "        text-align: right;\n",
       "    }\n",
       "</style>\n",
       "<table border=\"1\" class=\"dataframe\">\n",
       "  <thead>\n",
       "    <tr style=\"text-align: right;\">\n",
       "      <th></th>\n",
       "      <th>messages_included</th>\n",
       "      <th>mb_per_month_included</th>\n",
       "      <th>minutes_included</th>\n",
       "      <th>usd_monthly_pay</th>\n",
       "      <th>usd_per_gb</th>\n",
       "      <th>usd_per_message</th>\n",
       "      <th>usd_per_minute</th>\n",
       "      <th>plan_name</th>\n",
       "      <th>gb_per_month_included</th>\n",
       "    </tr>\n",
       "  </thead>\n",
       "  <tbody>\n",
       "    <tr>\n",
       "      <th>0</th>\n",
       "      <td>50</td>\n",
       "      <td>15360</td>\n",
       "      <td>500</td>\n",
       "      <td>20</td>\n",
       "      <td>10</td>\n",
       "      <td>0.03</td>\n",
       "      <td>0.03</td>\n",
       "      <td>surf</td>\n",
       "      <td>15.0</td>\n",
       "    </tr>\n",
       "    <tr>\n",
       "      <th>1</th>\n",
       "      <td>1000</td>\n",
       "      <td>30720</td>\n",
       "      <td>3000</td>\n",
       "      <td>70</td>\n",
       "      <td>7</td>\n",
       "      <td>0.01</td>\n",
       "      <td>0.01</td>\n",
       "      <td>ultimate</td>\n",
       "      <td>30.0</td>\n",
       "    </tr>\n",
       "  </tbody>\n",
       "</table>\n",
       "</div>"
      ],
      "text/plain": [
       "   messages_included  mb_per_month_included  minutes_included  \\\n",
       "0                 50                  15360               500   \n",
       "1               1000                  30720              3000   \n",
       "\n",
       "   usd_monthly_pay  usd_per_gb  usd_per_message  usd_per_minute plan_name  \\\n",
       "0               20          10             0.03            0.03      surf   \n",
       "1               70           7             0.01            0.01  ultimate   \n",
       "\n",
       "   gb_per_month_included  \n",
       "0                   15.0  \n",
       "1                   30.0  "
      ]
     },
     "execution_count": 20,
     "metadata": {},
     "output_type": "execute_result"
    }
   ],
   "source": [
    "# Criando coluna mês\n",
    "internet_df['mes'] = internet_df['session_date'].dt.month\n",
    "\n",
    "# Criando coluna gb_used\n",
    "internet_df['gb_used'] = (internet_df['mb_used'] / 1024).round(2)\n",
    "\n",
    "# Criando coluna gb_per_month_included\n",
    "plans_df['gb_per_month_included'] = (plans_df['mb_per_month_included'] / 1024).round(2)\n",
    "\n",
    "print(internet_df.head())\n",
    "plans_df.head()\n"
   ]
  },
  {
   "cell_type": "markdown",
   "metadata": {
    "id": "bnOX4ARJuj8p"
   },
   "source": [
    "### AGRUPAMENTO DE DADOS"
   ]
  },
  {
   "cell_type": "code",
   "execution_count": 21,
   "metadata": {
    "id": "4hmb2pSPuj8q"
   },
   "outputs": [
    {
     "data": {
      "text/html": [
       "<div>\n",
       "<style scoped>\n",
       "    .dataframe tbody tr th:only-of-type {\n",
       "        vertical-align: middle;\n",
       "    }\n",
       "\n",
       "    .dataframe tbody tr th {\n",
       "        vertical-align: top;\n",
       "    }\n",
       "\n",
       "    .dataframe thead th {\n",
       "        text-align: right;\n",
       "    }\n",
       "</style>\n",
       "<table border=\"1\" class=\"dataframe\">\n",
       "  <thead>\n",
       "    <tr style=\"text-align: right;\">\n",
       "      <th></th>\n",
       "      <th>user_id</th>\n",
       "      <th>mes</th>\n",
       "      <th>id</th>\n",
       "      <th>chamadas</th>\n",
       "    </tr>\n",
       "  </thead>\n",
       "  <tbody>\n",
       "    <tr>\n",
       "      <th>24459</th>\n",
       "      <td>1094</td>\n",
       "      <td>11</td>\n",
       "      <td>1094_101</td>\n",
       "      <td>1</td>\n",
       "    </tr>\n",
       "    <tr>\n",
       "      <th>136971</th>\n",
       "      <td>1496</td>\n",
       "      <td>11</td>\n",
       "      <td>1496_58</td>\n",
       "      <td>1</td>\n",
       "    </tr>\n",
       "    <tr>\n",
       "      <th>6394</th>\n",
       "      <td>1030</td>\n",
       "      <td>12</td>\n",
       "      <td>1030_157</td>\n",
       "      <td>1</td>\n",
       "    </tr>\n",
       "    <tr>\n",
       "      <th>110608</th>\n",
       "      <td>1390</td>\n",
       "      <td>5</td>\n",
       "      <td>1390_125</td>\n",
       "      <td>1</td>\n",
       "    </tr>\n",
       "    <tr>\n",
       "      <th>98143</th>\n",
       "      <td>1352</td>\n",
       "      <td>11</td>\n",
       "      <td>1352_45</td>\n",
       "      <td>1</td>\n",
       "    </tr>\n",
       "  </tbody>\n",
       "</table>\n",
       "</div>"
      ],
      "text/plain": [
       "        user_id  mes        id  chamadas\n",
       "24459      1094   11  1094_101         1\n",
       "136971     1496   11   1496_58         1\n",
       "6394       1030   12  1030_157         1\n",
       "110608     1390    5  1390_125         1\n",
       "98143      1352   11   1352_45         1"
      ]
     },
     "execution_count": 21,
     "metadata": {},
     "output_type": "execute_result"
    }
   ],
   "source": [
    "# Calcule o número de chamadas feitas por cada usuário por mês. Salve o resultado.\n",
    "chamadas_por_mes = calls_df.groupby(['user_id', 'mes', 'id']).size().reset_index(name='chamadas')\n",
    "chamadas_por_mes.sample(5)"
   ]
  },
  {
   "cell_type": "code",
   "execution_count": 22,
   "metadata": {
    "id": "yHgBWCJJuj8q"
   },
   "outputs": [
    {
     "data": {
      "text/html": [
       "<div>\n",
       "<style scoped>\n",
       "    .dataframe tbody tr th:only-of-type {\n",
       "        vertical-align: middle;\n",
       "    }\n",
       "\n",
       "    .dataframe tbody tr th {\n",
       "        vertical-align: top;\n",
       "    }\n",
       "\n",
       "    .dataframe thead th {\n",
       "        text-align: right;\n",
       "    }\n",
       "</style>\n",
       "<table border=\"1\" class=\"dataframe\">\n",
       "  <thead>\n",
       "    <tr style=\"text-align: right;\">\n",
       "      <th></th>\n",
       "      <th>user_id</th>\n",
       "      <th>mes</th>\n",
       "      <th>id</th>\n",
       "      <th>minutos</th>\n",
       "    </tr>\n",
       "  </thead>\n",
       "  <tbody>\n",
       "    <tr>\n",
       "      <th>54287</th>\n",
       "      <td>1196</td>\n",
       "      <td>3</td>\n",
       "      <td>1196_395</td>\n",
       "      <td>0.00</td>\n",
       "    </tr>\n",
       "    <tr>\n",
       "      <th>24108</th>\n",
       "      <td>1090</td>\n",
       "      <td>10</td>\n",
       "      <td>1090_405</td>\n",
       "      <td>8.88</td>\n",
       "    </tr>\n",
       "    <tr>\n",
       "      <th>22021</th>\n",
       "      <td>1081</td>\n",
       "      <td>11</td>\n",
       "      <td>1081_14</td>\n",
       "      <td>17.17</td>\n",
       "    </tr>\n",
       "    <tr>\n",
       "      <th>47658</th>\n",
       "      <td>1172</td>\n",
       "      <td>11</td>\n",
       "      <td>1172_201</td>\n",
       "      <td>0.00</td>\n",
       "    </tr>\n",
       "    <tr>\n",
       "      <th>107714</th>\n",
       "      <td>1382</td>\n",
       "      <td>8</td>\n",
       "      <td>1382_1278</td>\n",
       "      <td>0.00</td>\n",
       "    </tr>\n",
       "  </tbody>\n",
       "</table>\n",
       "</div>"
      ],
      "text/plain": [
       "        user_id  mes         id  minutos\n",
       "54287      1196    3   1196_395     0.00\n",
       "24108      1090   10   1090_405     8.88\n",
       "22021      1081   11    1081_14    17.17\n",
       "47658      1172   11   1172_201     0.00\n",
       "107714     1382    8  1382_1278     0.00"
      ]
     },
     "execution_count": 22,
     "metadata": {},
     "output_type": "execute_result"
    }
   ],
   "source": [
    "# Calcule a quantidade de minutos gastos por cada usuário por mês. Salve o resultado.\n",
    "minutos_por_mes = calls_df.groupby(['user_id', 'mes', 'id'])['duration'].sum().reset_index(name='minutos')\n",
    "minutos_por_mes.sample(5)"
   ]
  },
  {
   "cell_type": "code",
   "execution_count": 23,
   "metadata": {
    "id": "MaM_cPxauj8q"
   },
   "outputs": [
    {
     "data": {
      "text/html": [
       "<div>\n",
       "<style scoped>\n",
       "    .dataframe tbody tr th:only-of-type {\n",
       "        vertical-align: middle;\n",
       "    }\n",
       "\n",
       "    .dataframe tbody tr th {\n",
       "        vertical-align: top;\n",
       "    }\n",
       "\n",
       "    .dataframe thead th {\n",
       "        text-align: right;\n",
       "    }\n",
       "</style>\n",
       "<table border=\"1\" class=\"dataframe\">\n",
       "  <thead>\n",
       "    <tr style=\"text-align: right;\">\n",
       "      <th></th>\n",
       "      <th>user_id</th>\n",
       "      <th>mes</th>\n",
       "      <th>id</th>\n",
       "      <th>mensagens</th>\n",
       "    </tr>\n",
       "  </thead>\n",
       "  <tbody>\n",
       "    <tr>\n",
       "      <th>41835</th>\n",
       "      <td>1268</td>\n",
       "      <td>9</td>\n",
       "      <td>1268_275</td>\n",
       "      <td>1</td>\n",
       "    </tr>\n",
       "    <tr>\n",
       "      <th>44281</th>\n",
       "      <td>1294</td>\n",
       "      <td>10</td>\n",
       "      <td>1294_157</td>\n",
       "      <td>1</td>\n",
       "    </tr>\n",
       "    <tr>\n",
       "      <th>39175</th>\n",
       "      <td>1255</td>\n",
       "      <td>9</td>\n",
       "      <td>1255_545</td>\n",
       "      <td>1</td>\n",
       "    </tr>\n",
       "    <tr>\n",
       "      <th>8225</th>\n",
       "      <td>1061</td>\n",
       "      <td>8</td>\n",
       "      <td>1061_371</td>\n",
       "      <td>1</td>\n",
       "    </tr>\n",
       "    <tr>\n",
       "      <th>44849</th>\n",
       "      <td>1301</td>\n",
       "      <td>12</td>\n",
       "      <td>1301_46</td>\n",
       "      <td>1</td>\n",
       "    </tr>\n",
       "  </tbody>\n",
       "</table>\n",
       "</div>"
      ],
      "text/plain": [
       "       user_id  mes        id  mensagens\n",
       "41835     1268    9  1268_275          1\n",
       "44281     1294   10  1294_157          1\n",
       "39175     1255    9  1255_545          1\n",
       "8225      1061    8  1061_371          1\n",
       "44849     1301   12   1301_46          1"
      ]
     },
     "execution_count": 23,
     "metadata": {},
     "output_type": "execute_result"
    }
   ],
   "source": [
    "# Calcule o número de mensagens enviadas por cada usuário por mês. Salve o resultado.\n",
    "mensagens_por_mes = messages_df.groupby(['user_id', 'mes', 'id']).size().reset_index(name='mensagens')\n",
    "mensagens_por_mes.sample(5)"
   ]
  },
  {
   "cell_type": "code",
   "execution_count": 24,
   "metadata": {
    "id": "WsCEZJ_xuj8q"
   },
   "outputs": [
    {
     "data": {
      "text/html": [
       "<div>\n",
       "<style scoped>\n",
       "    .dataframe tbody tr th:only-of-type {\n",
       "        vertical-align: middle;\n",
       "    }\n",
       "\n",
       "    .dataframe tbody tr th {\n",
       "        vertical-align: top;\n",
       "    }\n",
       "\n",
       "    .dataframe thead th {\n",
       "        text-align: right;\n",
       "    }\n",
       "</style>\n",
       "<table border=\"1\" class=\"dataframe\">\n",
       "  <thead>\n",
       "    <tr style=\"text-align: right;\">\n",
       "      <th></th>\n",
       "      <th>user_id</th>\n",
       "      <th>mes</th>\n",
       "      <th>id</th>\n",
       "      <th>volume_gb</th>\n",
       "    </tr>\n",
       "  </thead>\n",
       "  <tbody>\n",
       "    <tr>\n",
       "      <th>1967</th>\n",
       "      <td>1010</td>\n",
       "      <td>5</td>\n",
       "      <td>1010_238</td>\n",
       "      <td>0.12</td>\n",
       "    </tr>\n",
       "    <tr>\n",
       "      <th>67590</th>\n",
       "      <td>1313</td>\n",
       "      <td>11</td>\n",
       "      <td>1313_223</td>\n",
       "      <td>0.44</td>\n",
       "    </tr>\n",
       "    <tr>\n",
       "      <th>31420</th>\n",
       "      <td>1144</td>\n",
       "      <td>6</td>\n",
       "      <td>1144_460</td>\n",
       "      <td>0.19</td>\n",
       "    </tr>\n",
       "    <tr>\n",
       "      <th>24197</th>\n",
       "      <td>1110</td>\n",
       "      <td>12</td>\n",
       "      <td>1110_237</td>\n",
       "      <td>0.12</td>\n",
       "    </tr>\n",
       "    <tr>\n",
       "      <th>8283</th>\n",
       "      <td>1043</td>\n",
       "      <td>11</td>\n",
       "      <td>1043_405</td>\n",
       "      <td>0.61</td>\n",
       "    </tr>\n",
       "  </tbody>\n",
       "</table>\n",
       "</div>"
      ],
      "text/plain": [
       "       user_id  mes        id  volume_gb\n",
       "1967      1010    5  1010_238       0.12\n",
       "67590     1313   11  1313_223       0.44\n",
       "31420     1144    6  1144_460       0.19\n",
       "24197     1110   12  1110_237       0.12\n",
       "8283      1043   11  1043_405       0.61"
      ]
     },
     "execution_count": 24,
     "metadata": {},
     "output_type": "execute_result"
    }
   ],
   "source": [
    "# Calcule o volume de tráfego de internet usado por cada usuário por mês. Salve o resultado.\n",
    "trafego_vol = internet_df.groupby(['user_id', 'mes', 'id'])['gb_used'].sum().reset_index(name='volume_gb')\n",
    "trafego_vol.sample(5)"
   ]
  },
  {
   "cell_type": "markdown",
   "metadata": {},
   "source": [
    "### Mesclagem de DataFrames"
   ]
  },
  {
   "cell_type": "code",
   "execution_count": 25,
   "metadata": {
    "id": "BYDTkxOauj8r"
   },
   "outputs": [
    {
     "name": "stdout",
     "output_type": "stream",
     "text": [
      "2293\n"
     ]
    },
    {
     "data": {
      "text/html": [
       "<div>\n",
       "<style scoped>\n",
       "    .dataframe tbody tr th:only-of-type {\n",
       "        vertical-align: middle;\n",
       "    }\n",
       "\n",
       "    .dataframe tbody tr th {\n",
       "        vertical-align: top;\n",
       "    }\n",
       "\n",
       "    .dataframe thead th {\n",
       "        text-align: right;\n",
       "    }\n",
       "</style>\n",
       "<table border=\"1\" class=\"dataframe\">\n",
       "  <thead>\n",
       "    <tr style=\"text-align: right;\">\n",
       "      <th></th>\n",
       "      <th>user_id</th>\n",
       "      <th>mes</th>\n",
       "      <th>chamadas</th>\n",
       "      <th>minutos</th>\n",
       "      <th>mensagens</th>\n",
       "      <th>volume_gb</th>\n",
       "      <th>plan_name</th>\n",
       "      <th>city</th>\n",
       "      <th>state</th>\n",
       "    </tr>\n",
       "  </thead>\n",
       "  <tbody>\n",
       "    <tr>\n",
       "      <th>1827</th>\n",
       "      <td>1400</td>\n",
       "      <td>8</td>\n",
       "      <td>65.0</td>\n",
       "      <td>500.47</td>\n",
       "      <td>NaN</td>\n",
       "      <td>10.75</td>\n",
       "      <td>surf</td>\n",
       "      <td>riverside-san bernardino-ontario</td>\n",
       "      <td>ca msa</td>\n",
       "    </tr>\n",
       "    <tr>\n",
       "      <th>823</th>\n",
       "      <td>1175</td>\n",
       "      <td>11</td>\n",
       "      <td>89.0</td>\n",
       "      <td>680.41</td>\n",
       "      <td>30.0</td>\n",
       "      <td>16.80</td>\n",
       "      <td>surf</td>\n",
       "      <td>new york-newark-jersey city</td>\n",
       "      <td>ny-nj-pa msa</td>\n",
       "    </tr>\n",
       "    <tr>\n",
       "      <th>326</th>\n",
       "      <td>1071</td>\n",
       "      <td>6</td>\n",
       "      <td>61.0</td>\n",
       "      <td>335.94</td>\n",
       "      <td>NaN</td>\n",
       "      <td>12.37</td>\n",
       "      <td>surf</td>\n",
       "      <td>new york-newark-jersey city</td>\n",
       "      <td>ny-nj-pa msa</td>\n",
       "    </tr>\n",
       "    <tr>\n",
       "      <th>295</th>\n",
       "      <td>1065</td>\n",
       "      <td>10</td>\n",
       "      <td>87.0</td>\n",
       "      <td>687.97</td>\n",
       "      <td>29.0</td>\n",
       "      <td>16.64</td>\n",
       "      <td>surf</td>\n",
       "      <td>los angeles-long beach-anaheim</td>\n",
       "      <td>ca msa</td>\n",
       "    </tr>\n",
       "    <tr>\n",
       "      <th>1950</th>\n",
       "      <td>1425</td>\n",
       "      <td>10</td>\n",
       "      <td>35.0</td>\n",
       "      <td>245.99</td>\n",
       "      <td>11.0</td>\n",
       "      <td>17.82</td>\n",
       "      <td>surf</td>\n",
       "      <td>las vegas-henderson-paradise</td>\n",
       "      <td>nv msa</td>\n",
       "    </tr>\n",
       "  </tbody>\n",
       "</table>\n",
       "</div>"
      ],
      "text/plain": [
       "      user_id  mes  chamadas  minutos  mensagens  volume_gb plan_name  \\\n",
       "1827     1400    8      65.0   500.47        NaN      10.75      surf   \n",
       "823      1175   11      89.0   680.41       30.0      16.80      surf   \n",
       "326      1071    6      61.0   335.94        NaN      12.37      surf   \n",
       "295      1065   10      87.0   687.97       29.0      16.64      surf   \n",
       "1950     1425   10      35.0   245.99       11.0      17.82      surf   \n",
       "\n",
       "                                  city          state  \n",
       "1827  riverside-san bernardino-ontario         ca msa  \n",
       "823        new york-newark-jersey city   ny-nj-pa msa  \n",
       "326        new york-newark-jersey city   ny-nj-pa msa  \n",
       "295     los angeles-long beach-anaheim         ca msa  \n",
       "1950      las vegas-henderson-paradise         nv msa  "
      ]
     },
     "execution_count": 25,
     "metadata": {},
     "output_type": "execute_result"
    }
   ],
   "source": [
    "# Junte os dados de chamadas, minutos, mensagens e internet com base em user_id e month\n",
    "calls_agg = chamadas_por_mes.groupby(['user_id', 'mes'])['chamadas'].count().reset_index()\n",
    "minutes_agg = minutos_por_mes.groupby(['user_id', 'mes'])['minutos'].sum().reset_index()\n",
    "messages_agg = mensagens_por_mes.groupby(['user_id', 'mes'])['mensagens'].count().reset_index()\n",
    "internet_agg = trafego_vol.groupby(['user_id', 'mes'])['volume_gb'].sum().reset_index()\n",
    "\n",
    "# Mesclando DataFrames\n",
    "user_agreg = calls_agg.merge(minutes_agg, on=['user_id', 'mes'], how='outer')\n",
    "user_agreg = user_agreg.merge(messages_agg, on=['user_id', 'mes'], how='outer')\n",
    "user_agreg = user_agreg.merge(internet_agg, on=['user_id', 'mes'], how='outer')\n",
    "user_agreg = user_agreg.merge(users_df[['user_id', 'plan_name', 'city', 'state']], on='user_id', how='left')\n",
    "\n",
    "print(user_agreg.shape[0])\n",
    "user_agreg.sample(5)"
   ]
  },
  {
   "cell_type": "markdown",
   "metadata": {},
   "source": [
    "### Tratamento de valores nulos"
   ]
  },
  {
   "cell_type": "code",
   "execution_count": 26,
   "metadata": {},
   "outputs": [
    {
     "name": "stdout",
     "output_type": "stream",
     "text": [
      "user_id        0\n",
      "mes            0\n",
      "chamadas      35\n",
      "minutos       35\n",
      "mensagens    487\n",
      "volume_gb     16\n",
      "plan_name      0\n",
      "city           0\n",
      "state          0\n",
      "dtype: int64\n"
     ]
    },
    {
     "data": {
      "text/html": [
       "<div>\n",
       "<style scoped>\n",
       "    .dataframe tbody tr th:only-of-type {\n",
       "        vertical-align: middle;\n",
       "    }\n",
       "\n",
       "    .dataframe tbody tr th {\n",
       "        vertical-align: top;\n",
       "    }\n",
       "\n",
       "    .dataframe thead th {\n",
       "        text-align: right;\n",
       "    }\n",
       "</style>\n",
       "<table border=\"1\" class=\"dataframe\">\n",
       "  <thead>\n",
       "    <tr style=\"text-align: right;\">\n",
       "      <th></th>\n",
       "      <th>user_id</th>\n",
       "      <th>mes</th>\n",
       "      <th>chamadas</th>\n",
       "      <th>minutos</th>\n",
       "      <th>mensagens</th>\n",
       "      <th>volume_gb</th>\n",
       "      <th>plan_name</th>\n",
       "      <th>city</th>\n",
       "      <th>state</th>\n",
       "    </tr>\n",
       "  </thead>\n",
       "  <tbody>\n",
       "    <tr>\n",
       "      <th>0</th>\n",
       "      <td>1000</td>\n",
       "      <td>12</td>\n",
       "      <td>16.0</td>\n",
       "      <td>116.83</td>\n",
       "      <td>11.0</td>\n",
       "      <td>1.85</td>\n",
       "      <td>ultimate</td>\n",
       "      <td>atlanta-sandy springs-roswell</td>\n",
       "      <td>ga msa</td>\n",
       "    </tr>\n",
       "    <tr>\n",
       "      <th>1</th>\n",
       "      <td>1001</td>\n",
       "      <td>8</td>\n",
       "      <td>27.0</td>\n",
       "      <td>171.14</td>\n",
       "      <td>30.0</td>\n",
       "      <td>6.76</td>\n",
       "      <td>surf</td>\n",
       "      <td>seattle-tacoma-bellevue</td>\n",
       "      <td>wa msa</td>\n",
       "    </tr>\n",
       "    <tr>\n",
       "      <th>2</th>\n",
       "      <td>1001</td>\n",
       "      <td>9</td>\n",
       "      <td>49.0</td>\n",
       "      <td>297.69</td>\n",
       "      <td>44.0</td>\n",
       "      <td>12.99</td>\n",
       "      <td>surf</td>\n",
       "      <td>seattle-tacoma-bellevue</td>\n",
       "      <td>wa msa</td>\n",
       "    </tr>\n",
       "    <tr>\n",
       "      <th>3</th>\n",
       "      <td>1001</td>\n",
       "      <td>10</td>\n",
       "      <td>65.0</td>\n",
       "      <td>374.11</td>\n",
       "      <td>53.0</td>\n",
       "      <td>21.77</td>\n",
       "      <td>surf</td>\n",
       "      <td>seattle-tacoma-bellevue</td>\n",
       "      <td>wa msa</td>\n",
       "    </tr>\n",
       "    <tr>\n",
       "      <th>4</th>\n",
       "      <td>1001</td>\n",
       "      <td>11</td>\n",
       "      <td>64.0</td>\n",
       "      <td>404.59</td>\n",
       "      <td>36.0</td>\n",
       "      <td>18.08</td>\n",
       "      <td>surf</td>\n",
       "      <td>seattle-tacoma-bellevue</td>\n",
       "      <td>wa msa</td>\n",
       "    </tr>\n",
       "  </tbody>\n",
       "</table>\n",
       "</div>"
      ],
      "text/plain": [
       "   user_id  mes  chamadas  minutos  mensagens  volume_gb plan_name  \\\n",
       "0     1000   12      16.0   116.83       11.0       1.85  ultimate   \n",
       "1     1001    8      27.0   171.14       30.0       6.76      surf   \n",
       "2     1001    9      49.0   297.69       44.0      12.99      surf   \n",
       "3     1001   10      65.0   374.11       53.0      21.77      surf   \n",
       "4     1001   11      64.0   404.59       36.0      18.08      surf   \n",
       "\n",
       "                            city    state  \n",
       "0  atlanta-sandy springs-roswell   ga msa  \n",
       "1        seattle-tacoma-bellevue   wa msa  \n",
       "2        seattle-tacoma-bellevue   wa msa  \n",
       "3        seattle-tacoma-bellevue   wa msa  \n",
       "4        seattle-tacoma-bellevue   wa msa  "
      ]
     },
     "execution_count": 26,
     "metadata": {},
     "output_type": "execute_result"
    }
   ],
   "source": [
    "# ANALISANDO VALORES NULOS\n",
    "valores_nulos_por_coluna = user_agreg.isnull().sum()\n",
    "print(valores_nulos_por_coluna)\n",
    "\n",
    "# Substituindo NaN por zero na coluna 'mensagens', 'chamadas', 'minutos' e 'volume_gb'\n",
    "user_agreg['mensagens'] = user_agreg['mensagens'].fillna(0)\n",
    "user_agreg['chamadas'] = user_agreg['chamadas'].fillna(0)\n",
    "user_agreg['minutos'] = user_agreg['minutos'].fillna(0)\n",
    "user_agreg['volume_gb'] = user_agreg['volume_gb'].fillna(0)\n",
    "\n",
    "user_agreg.head(5)"
   ]
  },
  {
   "cell_type": "code",
   "execution_count": 27,
   "metadata": {
    "id": "SW-sgLaHuj8r"
   },
   "outputs": [
    {
     "data": {
      "text/html": [
       "<div>\n",
       "<style scoped>\n",
       "    .dataframe tbody tr th:only-of-type {\n",
       "        vertical-align: middle;\n",
       "    }\n",
       "\n",
       "    .dataframe tbody tr th {\n",
       "        vertical-align: top;\n",
       "    }\n",
       "\n",
       "    .dataframe thead th {\n",
       "        text-align: right;\n",
       "    }\n",
       "</style>\n",
       "<table border=\"1\" class=\"dataframe\">\n",
       "  <thead>\n",
       "    <tr style=\"text-align: right;\">\n",
       "      <th></th>\n",
       "      <th>user_id</th>\n",
       "      <th>mes</th>\n",
       "      <th>chamadas</th>\n",
       "      <th>minutos</th>\n",
       "      <th>mensagens</th>\n",
       "      <th>volume_gb</th>\n",
       "      <th>plan_name</th>\n",
       "      <th>city</th>\n",
       "      <th>state</th>\n",
       "      <th>usd_monthly_pay</th>\n",
       "      <th>messages_included</th>\n",
       "      <th>gb_per_month_included</th>\n",
       "      <th>minutes_included</th>\n",
       "      <th>usd_per_gb</th>\n",
       "      <th>usd_per_message</th>\n",
       "      <th>usd_per_minute</th>\n",
       "    </tr>\n",
       "  </thead>\n",
       "  <tbody>\n",
       "    <tr>\n",
       "      <th>1634</th>\n",
       "      <td>1291</td>\n",
       "      <td>12</td>\n",
       "      <td>88.0</td>\n",
       "      <td>593.50</td>\n",
       "      <td>17.0</td>\n",
       "      <td>11.90</td>\n",
       "      <td>surf</td>\n",
       "      <td>indianapolis-carmel-anderson</td>\n",
       "      <td>in msa</td>\n",
       "      <td>20</td>\n",
       "      <td>50</td>\n",
       "      <td>15.0</td>\n",
       "      <td>500</td>\n",
       "      <td>10</td>\n",
       "      <td>0.03</td>\n",
       "      <td>0.03</td>\n",
       "    </tr>\n",
       "    <tr>\n",
       "      <th>2084</th>\n",
       "      <td>1425</td>\n",
       "      <td>9</td>\n",
       "      <td>11.0</td>\n",
       "      <td>77.91</td>\n",
       "      <td>5.0</td>\n",
       "      <td>8.04</td>\n",
       "      <td>surf</td>\n",
       "      <td>las vegas-henderson-paradise</td>\n",
       "      <td>nv msa</td>\n",
       "      <td>20</td>\n",
       "      <td>50</td>\n",
       "      <td>15.0</td>\n",
       "      <td>500</td>\n",
       "      <td>10</td>\n",
       "      <td>0.03</td>\n",
       "      <td>0.03</td>\n",
       "    </tr>\n",
       "    <tr>\n",
       "      <th>1183</th>\n",
       "      <td>1146</td>\n",
       "      <td>10</td>\n",
       "      <td>39.0</td>\n",
       "      <td>206.48</td>\n",
       "      <td>43.0</td>\n",
       "      <td>11.38</td>\n",
       "      <td>surf</td>\n",
       "      <td>new york-newark-jersey city</td>\n",
       "      <td>ny-nj-pa msa</td>\n",
       "      <td>20</td>\n",
       "      <td>50</td>\n",
       "      <td>15.0</td>\n",
       "      <td>500</td>\n",
       "      <td>10</td>\n",
       "      <td>0.03</td>\n",
       "      <td>0.03</td>\n",
       "    </tr>\n",
       "    <tr>\n",
       "      <th>2018</th>\n",
       "      <td>1400</td>\n",
       "      <td>12</td>\n",
       "      <td>81.0</td>\n",
       "      <td>496.13</td>\n",
       "      <td>0.0</td>\n",
       "      <td>21.39</td>\n",
       "      <td>surf</td>\n",
       "      <td>riverside-san bernardino-ontario</td>\n",
       "      <td>ca msa</td>\n",
       "      <td>20</td>\n",
       "      <td>50</td>\n",
       "      <td>15.0</td>\n",
       "      <td>500</td>\n",
       "      <td>10</td>\n",
       "      <td>0.03</td>\n",
       "      <td>0.03</td>\n",
       "    </tr>\n",
       "    <tr>\n",
       "      <th>1575</th>\n",
       "      <td>1268</td>\n",
       "      <td>10</td>\n",
       "      <td>72.0</td>\n",
       "      <td>431.44</td>\n",
       "      <td>33.0</td>\n",
       "      <td>33.55</td>\n",
       "      <td>surf</td>\n",
       "      <td>fresno</td>\n",
       "      <td>ca msa</td>\n",
       "      <td>20</td>\n",
       "      <td>50</td>\n",
       "      <td>15.0</td>\n",
       "      <td>500</td>\n",
       "      <td>10</td>\n",
       "      <td>0.03</td>\n",
       "      <td>0.03</td>\n",
       "    </tr>\n",
       "  </tbody>\n",
       "</table>\n",
       "</div>"
      ],
      "text/plain": [
       "      user_id  mes  chamadas  minutos  mensagens  volume_gb plan_name  \\\n",
       "1634     1291   12      88.0   593.50       17.0      11.90      surf   \n",
       "2084     1425    9      11.0    77.91        5.0       8.04      surf   \n",
       "1183     1146   10      39.0   206.48       43.0      11.38      surf   \n",
       "2018     1400   12      81.0   496.13        0.0      21.39      surf   \n",
       "1575     1268   10      72.0   431.44       33.0      33.55      surf   \n",
       "\n",
       "                                  city          state  usd_monthly_pay  \\\n",
       "1634      indianapolis-carmel-anderson         in msa               20   \n",
       "2084      las vegas-henderson-paradise         nv msa               20   \n",
       "1183       new york-newark-jersey city   ny-nj-pa msa               20   \n",
       "2018  riverside-san bernardino-ontario         ca msa               20   \n",
       "1575                            fresno         ca msa               20   \n",
       "\n",
       "      messages_included  gb_per_month_included  minutes_included  usd_per_gb  \\\n",
       "1634                 50                   15.0               500          10   \n",
       "2084                 50                   15.0               500          10   \n",
       "1183                 50                   15.0               500          10   \n",
       "2018                 50                   15.0               500          10   \n",
       "1575                 50                   15.0               500          10   \n",
       "\n",
       "      usd_per_message  usd_per_minute  \n",
       "1634             0.03            0.03  \n",
       "2084             0.03            0.03  \n",
       "1183             0.03            0.03  \n",
       "2018             0.03            0.03  \n",
       "1575             0.03            0.03  "
      ]
     },
     "execution_count": 27,
     "metadata": {},
     "output_type": "execute_result"
    }
   ],
   "source": [
    "# Adicione as informações sobre o plano\n",
    "df_completo = user_agreg.merge(plans_df[['plan_name', 'usd_monthly_pay', 'messages_included', 'gb_per_month_included', 'minutes_included', 'usd_per_gb', 'usd_per_message', 'usd_per_minute']], on='plan_name')\n",
    "\n",
    "df_completo.sample(5)"
   ]
  },
  {
   "cell_type": "markdown",
   "metadata": {
    "id": "mU8dKHTQuj8r"
   },
   "source": [
    "### CÁLCULOS DOS DADOS PARA ANÁLISE:\n",
    "### Minutos, mensagens e dados de internet excedentes, receita mensal."
   ]
  },
  {
   "cell_type": "code",
   "execution_count": 28,
   "metadata": {
    "id": "JiPHXbQAuj8r"
   },
   "outputs": [
    {
     "name": "stdout",
     "output_type": "stream",
     "text": [
      "2293\n"
     ]
    },
    {
     "data": {
      "text/html": [
       "<div>\n",
       "<style scoped>\n",
       "    .dataframe tbody tr th:only-of-type {\n",
       "        vertical-align: middle;\n",
       "    }\n",
       "\n",
       "    .dataframe tbody tr th {\n",
       "        vertical-align: top;\n",
       "    }\n",
       "\n",
       "    .dataframe thead th {\n",
       "        text-align: right;\n",
       "    }\n",
       "</style>\n",
       "<table border=\"1\" class=\"dataframe\">\n",
       "  <thead>\n",
       "    <tr style=\"text-align: right;\">\n",
       "      <th></th>\n",
       "      <th>user_id</th>\n",
       "      <th>mes</th>\n",
       "      <th>chamadas</th>\n",
       "      <th>minutos</th>\n",
       "      <th>mensagens</th>\n",
       "      <th>volume_gb</th>\n",
       "      <th>plan_name</th>\n",
       "      <th>city</th>\n",
       "      <th>state</th>\n",
       "      <th>usd_monthly_pay</th>\n",
       "      <th>...</th>\n",
       "      <th>usd_per_gb</th>\n",
       "      <th>usd_per_message</th>\n",
       "      <th>usd_per_minute</th>\n",
       "      <th>minutos_excedentes</th>\n",
       "      <th>custo_minutos_excedentes</th>\n",
       "      <th>mensagens_excedentes</th>\n",
       "      <th>custo_mensagens_excedentes</th>\n",
       "      <th>dados_excedentes</th>\n",
       "      <th>custo_dados_excedentes</th>\n",
       "      <th>receita_mensal</th>\n",
       "    </tr>\n",
       "  </thead>\n",
       "  <tbody>\n",
       "    <tr>\n",
       "      <th>1049</th>\n",
       "      <td>1105</td>\n",
       "      <td>10</td>\n",
       "      <td>67.0</td>\n",
       "      <td>413.06</td>\n",
       "      <td>46.0</td>\n",
       "      <td>9.45</td>\n",
       "      <td>surf</td>\n",
       "      <td>providence-warwick</td>\n",
       "      <td>ri-ma msa</td>\n",
       "      <td>20</td>\n",
       "      <td>...</td>\n",
       "      <td>10</td>\n",
       "      <td>0.03</td>\n",
       "      <td>0.03</td>\n",
       "      <td>0.00</td>\n",
       "      <td>0.0000</td>\n",
       "      <td>0.0</td>\n",
       "      <td>0.00</td>\n",
       "      <td>0.00</td>\n",
       "      <td>0.0</td>\n",
       "      <td>20.0000</td>\n",
       "    </tr>\n",
       "    <tr>\n",
       "      <th>666</th>\n",
       "      <td>1465</td>\n",
       "      <td>11</td>\n",
       "      <td>120.0</td>\n",
       "      <td>863.42</td>\n",
       "      <td>30.0</td>\n",
       "      <td>15.70</td>\n",
       "      <td>ultimate</td>\n",
       "      <td>pittsburgh</td>\n",
       "      <td>pa msa</td>\n",
       "      <td>70</td>\n",
       "      <td>...</td>\n",
       "      <td>7</td>\n",
       "      <td>0.01</td>\n",
       "      <td>0.01</td>\n",
       "      <td>0.00</td>\n",
       "      <td>0.0000</td>\n",
       "      <td>0.0</td>\n",
       "      <td>0.00</td>\n",
       "      <td>0.00</td>\n",
       "      <td>0.0</td>\n",
       "      <td>70.0000</td>\n",
       "    </tr>\n",
       "    <tr>\n",
       "      <th>1908</th>\n",
       "      <td>1364</td>\n",
       "      <td>9</td>\n",
       "      <td>65.0</td>\n",
       "      <td>418.93</td>\n",
       "      <td>22.0</td>\n",
       "      <td>14.46</td>\n",
       "      <td>surf</td>\n",
       "      <td>san diego-chula vista-carlsbad</td>\n",
       "      <td>ca msa</td>\n",
       "      <td>20</td>\n",
       "      <td>...</td>\n",
       "      <td>10</td>\n",
       "      <td>0.03</td>\n",
       "      <td>0.03</td>\n",
       "      <td>0.00</td>\n",
       "      <td>0.0000</td>\n",
       "      <td>0.0</td>\n",
       "      <td>0.00</td>\n",
       "      <td>0.00</td>\n",
       "      <td>0.0</td>\n",
       "      <td>20.0000</td>\n",
       "    </tr>\n",
       "    <tr>\n",
       "      <th>1552</th>\n",
       "      <td>1262</td>\n",
       "      <td>12</td>\n",
       "      <td>40.0</td>\n",
       "      <td>275.72</td>\n",
       "      <td>57.0</td>\n",
       "      <td>15.65</td>\n",
       "      <td>surf</td>\n",
       "      <td>dallas-fort worth-arlington</td>\n",
       "      <td>tx msa</td>\n",
       "      <td>20</td>\n",
       "      <td>...</td>\n",
       "      <td>10</td>\n",
       "      <td>0.03</td>\n",
       "      <td>0.03</td>\n",
       "      <td>0.00</td>\n",
       "      <td>0.0000</td>\n",
       "      <td>7.0</td>\n",
       "      <td>0.21</td>\n",
       "      <td>0.65</td>\n",
       "      <td>6.5</td>\n",
       "      <td>26.7100</td>\n",
       "    </tr>\n",
       "    <tr>\n",
       "      <th>1960</th>\n",
       "      <td>1385</td>\n",
       "      <td>5</td>\n",
       "      <td>68.0</td>\n",
       "      <td>517.61</td>\n",
       "      <td>38.0</td>\n",
       "      <td>14.92</td>\n",
       "      <td>surf</td>\n",
       "      <td>new york-newark-jersey city</td>\n",
       "      <td>ny-nj-pa msa</td>\n",
       "      <td>20</td>\n",
       "      <td>...</td>\n",
       "      <td>10</td>\n",
       "      <td>0.03</td>\n",
       "      <td>0.03</td>\n",
       "      <td>17.61</td>\n",
       "      <td>0.5283</td>\n",
       "      <td>0.0</td>\n",
       "      <td>0.00</td>\n",
       "      <td>0.00</td>\n",
       "      <td>0.0</td>\n",
       "      <td>20.5283</td>\n",
       "    </tr>\n",
       "  </tbody>\n",
       "</table>\n",
       "<p>5 rows × 23 columns</p>\n",
       "</div>"
      ],
      "text/plain": [
       "      user_id  mes  chamadas  minutos  mensagens  volume_gb plan_name  \\\n",
       "1049     1105   10      67.0   413.06       46.0       9.45      surf   \n",
       "666      1465   11     120.0   863.42       30.0      15.70  ultimate   \n",
       "1908     1364    9      65.0   418.93       22.0      14.46      surf   \n",
       "1552     1262   12      40.0   275.72       57.0      15.65      surf   \n",
       "1960     1385    5      68.0   517.61       38.0      14.92      surf   \n",
       "\n",
       "                                city          state  usd_monthly_pay  ...  \\\n",
       "1049              providence-warwick      ri-ma msa               20  ...   \n",
       "666                       pittsburgh         pa msa               70  ...   \n",
       "1908  san diego-chula vista-carlsbad         ca msa               20  ...   \n",
       "1552     dallas-fort worth-arlington         tx msa               20  ...   \n",
       "1960     new york-newark-jersey city   ny-nj-pa msa               20  ...   \n",
       "\n",
       "      usd_per_gb  usd_per_message  usd_per_minute  minutos_excedentes  \\\n",
       "1049          10             0.03            0.03                0.00   \n",
       "666            7             0.01            0.01                0.00   \n",
       "1908          10             0.03            0.03                0.00   \n",
       "1552          10             0.03            0.03                0.00   \n",
       "1960          10             0.03            0.03               17.61   \n",
       "\n",
       "      custo_minutos_excedentes  mensagens_excedentes  \\\n",
       "1049                    0.0000                   0.0   \n",
       "666                     0.0000                   0.0   \n",
       "1908                    0.0000                   0.0   \n",
       "1552                    0.0000                   7.0   \n",
       "1960                    0.5283                   0.0   \n",
       "\n",
       "      custo_mensagens_excedentes  dados_excedentes  custo_dados_excedentes  \\\n",
       "1049                        0.00              0.00                     0.0   \n",
       "666                         0.00              0.00                     0.0   \n",
       "1908                        0.00              0.00                     0.0   \n",
       "1552                        0.21              0.65                     6.5   \n",
       "1960                        0.00              0.00                     0.0   \n",
       "\n",
       "      receita_mensal  \n",
       "1049         20.0000  \n",
       "666          70.0000  \n",
       "1908         20.0000  \n",
       "1552         26.7100  \n",
       "1960         20.5283  \n",
       "\n",
       "[5 rows x 23 columns]"
      ]
     },
     "execution_count": 28,
     "metadata": {},
     "output_type": "execute_result"
    }
   ],
   "source": [
    "# Calculos\n",
    "minutos_excedentes = df_completo['minutos'] - df_completo['minutes_included']\n",
    "custo_minutos_excedentes = minutos_excedentes * df_completo['usd_per_minute']\n",
    "\n",
    "mensagens_excedentes = df_completo['mensagens'] - df_completo['messages_included']\n",
    "custo_mensagens_excedentes = mensagens_excedentes * df_completo['usd_per_message']\n",
    "\n",
    "dados_excedentes = (df_completo['volume_gb'] - df_completo['gb_per_month_included'])\n",
    "custo_dados_excedentes = dados_excedentes * df_completo['usd_per_gb']\n",
    "\n",
    "# Limitando a 0 qualquer resultado negativo\n",
    "minutos_excedentes = minutos_excedentes.clip(lower=0)\n",
    "custo_minutos_excedentes = custo_minutos_excedentes.clip(lower=0)\n",
    "\n",
    "mensagens_excedentes = mensagens_excedentes.clip(lower=0)\n",
    "custo_mensagens_excedentes = custo_mensagens_excedentes.clip(lower=0)\n",
    "\n",
    "dados_excedentes = dados_excedentes.clip(lower=0)\n",
    "custo_dados_excedentes = custo_dados_excedentes.clip(lower=0)\n",
    "\n",
    "# Colunas excedentes e custos excedentes\n",
    "df_completo['minutos_excedentes'] = minutos_excedentes\n",
    "df_completo['custo_minutos_excedentes'] = custo_minutos_excedentes\n",
    "df_completo['mensagens_excedentes'] = mensagens_excedentes\n",
    "df_completo['custo_mensagens_excedentes'] = custo_mensagens_excedentes\n",
    "df_completo['dados_excedentes'] = dados_excedentes\n",
    "df_completo['custo_dados_excedentes'] = custo_dados_excedentes\n",
    "\n",
    "# Receita mensal\n",
    "df_completo['receita_mensal'] = df_completo['usd_monthly_pay'] + df_completo['custo_minutos_excedentes'] + df_completo['custo_mensagens_excedentes'] + df_completo['custo_dados_excedentes']\n",
    "\n",
    "print(df_completo.shape[0])\n",
    "df_completo.sample(5)"
   ]
  },
  {
   "cell_type": "markdown",
   "metadata": {
    "id": "0HFWXKTQuj8r"
   },
   "source": [
    "### Comportamento do usuário: Chamadas"
   ]
  },
  {
   "cell_type": "code",
   "execution_count": 29,
   "metadata": {
    "id": "0236-tJnuj8t"
   },
   "outputs": [
    {
     "data": {
      "image/png": "[encoded data removed]",
      "text/plain": [
       "<Figure size 1600x800 with 1 Axes>"
      ]
     },
     "metadata": {},
     "output_type": "display_data"
    }
   ],
   "source": [
    "# Compare a duração média das chamadas de cada plano para cada mês distinto. Crie um gráfico de barras para visualizá-lo.\n",
    "\n",
    "media_chamadas_plano_mes = df_completo.groupby(['plan_name', 'mes'])['minutos'].mean().reset_index()\n",
    "\n",
    "meses_lista = {1: 'Janeiro', 2: 'Fevereiro', 3: 'Março', 4: 'Abril', 5: 'Maio', 6: 'Junho', 7: 'Julho', 8: 'Agosto', 9: 'Setembro', 10: 'Outubro', 11: 'Novembro', 12: 'Dezembro', }\n",
    "\n",
    "media_chamadas_plano_mes['mes'] = media_chamadas_plano_mes['mes'].map(meses_lista)\n",
    "sort_mes_plano = media_chamadas_plano_mes['mes'].map({mes: num for num, mes in meses_lista.items()})\n",
    "sort_mes_plano = media_chamadas_plano_mes.loc[sort_mes_plano.sort_values().index]\n",
    "sort_mes_plano = media_chamadas_plano_mes.reset_index(drop=True)\n",
    "    \n",
    "plano_surf = sort_mes_plano[sort_mes_plano['plan_name'] == 'surf']\n",
    "plano_ultimate = sort_mes_plano[sort_mes_plano['plan_name'] == 'ultimate']\n",
    "\n",
    "bar_width = 0.4\n",
    "indice = np.arange(len(plano_surf['mes']))\n",
    "\n",
    "plt.figure(figsize=(16, 8))\n",
    "\n",
    "plt.bar(indice, plano_surf['minutos'], width=bar_width, label='Surf', alpha=0.7, color='green')\n",
    "plt.bar(indice + bar_width, plano_ultimate['minutos'], width=bar_width, label='Ultimate', alpha=0.7, color='blue')\n",
    "\n",
    "plt.xlabel('Meses')\n",
    "plt.ylabel('Duração Média (em minutos)')\n",
    "plt.title('Duração Média das Chamadas (Mês e Planos)')\n",
    "plt.xticks(indice + bar_width, plano_surf['mes'], rotation = 45)\n",
    "plt.legend()\n",
    "\n",
    "plt.show()\n"
   ]
  },
  {
   "cell_type": "code",
   "execution_count": 30,
   "metadata": {
    "id": "9sCQ1lP8uj8u"
   },
   "outputs": [
    {
     "data": {
      "image/png": "[encoded data removed]",
      "text/plain": [
       "<Figure size 1200x600 with 1 Axes>"
      ]
     },
     "metadata": {},
     "output_type": "display_data"
    }
   ],
   "source": [
    "# Compare o número de minutos de que os usuários de cada plano necessitam a cada mês. Construa um histograma.\n",
    "minutos_plano_mes = df_completo.groupby('plan_name')['minutos'].hist(alpha=0.7, bins=30, figsize=(12, 6))\n",
    "\n",
    "plt.xlabel('Minutos')\n",
    "plt.ylabel('Frequência')\n",
    "plt.title('Comparação do uso de minutos por plano e mês')\n",
    "plt.legend(['Surf', 'Ultimate'])\n",
    "\n",
    "plt.show()"
   ]
  },
  {
   "cell_type": "markdown",
   "metadata": {},
   "source": [
    "### Cáuculo de Médias e Desvio Padrão"
   ]
  },
  {
   "cell_type": "code",
   "execution_count": 31,
   "metadata": {
    "id": "cIdodPExuj8u"
   },
   "outputs": [
    {
     "name": "stdout",
     "output_type": "stream",
     "text": [
      "Duração média e variância das chamadas por mês:\n",
      "    mes   minutos_x     minutos_y  desvio_padrao\n",
      "0     1  186.388333  11978.884417     109.448090\n",
      "1     2  324.168125  55034.331430     234.593971\n",
      "2     3  302.306571  38297.559553     195.697623\n",
      "3     4  327.685493  40857.825162     202.133187\n",
      "4     5  378.862075  49052.952900     221.479012\n",
      "5     6  388.474861  40290.973822     200.726116\n",
      "6     7  417.719889  57598.688315     239.997267\n",
      "7     8  390.248884  48145.862318     219.421654\n",
      "8     9  397.839893  44405.688995     210.726574\n",
      "9    10  411.711079  47179.463884     217.208342\n",
      "10   11  406.066829  48599.640860     220.453262\n",
      "11   12  442.818849  56522.142408     237.743859\n"
     ]
    }
   ],
   "source": [
    "# Média e a variância da duração mensal das chamadas\n",
    "\n",
    "media_chamadas_mes = df_completo.groupby('mes')['minutos'].mean().reset_index()\n",
    "variancia_chamadas_mes = df_completo.groupby('mes')['minutos'].var().reset_index()\n",
    "desvio_padrao_chamadas_mes = np.sqrt(variancia_chamadas_mes['minutos'])\n",
    "\n",
    "duracao_chamadas_mes = media_chamadas_mes.merge(variancia_chamadas_mes, on='mes')\n",
    "\n",
    "duracao_chamadas_mes['desvio_padrao'] = desvio_padrao_chamadas_mes\n",
    "\n",
    "print('Duração média e variância das chamadas por mês:')\n",
    "print(duracao_chamadas_mes)"
   ]
  },
  {
   "cell_type": "markdown",
   "metadata": {},
   "source": [
    "### Distribuição de duração de chamadas"
   ]
  },
  {
   "cell_type": "code",
   "execution_count": 40,
   "metadata": {
    "id": "DW7vTypxuj8u"
   },
   "outputs": [
    {
     "data": {
      "image/png": "[encoded data removed]",
      "text/plain": [
       "<Figure size 1000x600 with 1 Axes>"
      ]
     },
     "metadata": {},
     "output_type": "display_data"
    }
   ],
   "source": [
    "# Faça um diagrama de caixa para visualizar a distribuição da duração mensal das chamadas\n",
    "distrib_duracao_mensal_planos = df_completo[df_completo['plan_name'].isin(['surf', 'ultimate'])]\n",
    "\n",
    "plt.figure(figsize=(10, 6))\n",
    "\n",
    "sns.boxplot(\n",
    "    x = \"plan_name\",\n",
    "    y = \"minutos\",\n",
    "    showmeans=True,\n",
    "    data=distrib_duracao_mensal_planos\n",
    ")\n",
    "\n",
    "# Personalize o gráfico (opcional)\n",
    "plt.xlabel(\"Plano de Serviço\")\n",
    "plt.ylabel(\"Duração (minutos)\")\n",
    "plt.title(\"Distribuição da Duração Mensal de Chamadas por Plano\")\n",
    "plt.xticks(rotation=45)\n",
    "\n",
    "# Exiba o gráfico\n",
    "plt.show()\n"
   ]
  },
  {
   "cell_type": "markdown",
   "metadata": {
    "id": "Uyt3rWn7uj8u"
   },
   "source": [
    "<div class=\"alert alert-block alert-info\">\n",
    "<b>Observações:</b> <a class=\"tocSkip\"></a>\n",
    "\n",
    "Os gráficos acima apontam um certo equilibrio nas médias de ambos os planos. O Gráfico de barras demonstra bem este equilíbio um pico do plano 'Ultimate' em fevereiro. O histograma aponta um volume maior do plano \"Surf\" mas a média de uso de minutos de ambos os planos fica em torno de 400 minutos. O diagrama de caixa aponta o mesmo equilíbrio nas médias embora demonstre uma dispersão maior no plano \"Surf\". A quantidade de minutos usados mais do que dobrou, em. média, em dezembro quando comparado a Janeiro, a variância foi quase 4,5 vezes maior e o desvio padrão mais do que dobrou\n",
    "\n",
    "</div>"
   ]
  },
  {
   "cell_type": "markdown",
   "metadata": {
    "id": "2hWSPtrnuj8v"
   },
   "source": [
    "### Comportamento do usuário: Mensagens por Mês"
   ]
  },
  {
   "cell_type": "code",
   "execution_count": 33,
   "metadata": {
    "id": "9kPlAhOJuj8v"
   },
   "outputs": [
    {
     "data": {
      "image/png": "[encoded data removed]",
      "text/plain": [
       "<Figure size 1600x600 with 1 Axes>"
      ]
     },
     "metadata": {},
     "output_type": "display_data"
    }
   ],
   "source": [
    "# Compare o número de mensagens que os usuários de cada plano tendem a enviar a cada mês\n",
    "\n",
    "soma_mensagens_plano_mes = df_completo.groupby(['plan_name', 'mes'])['mensagens'].sum().reset_index()\n",
    "\n",
    "meses_lista = {1: 'Janeiro', 2: 'Fevereiro', 3: 'Março', 4: 'Abril', 5: 'Maio', 6: 'Junho', 7: 'Julho', 8: 'Agosto', 9: 'Setembro', 10: 'Outubro', 11: 'Novembro', 12: 'Dezembro', }\n",
    "\n",
    "soma_mensagens_plano_mes['mes'] = soma_mensagens_plano_mes['mes'].map(meses_lista)\n",
    "sort_mes_plano = soma_mensagens_plano_mes['mes'].map({mes: num for num, mes in meses_lista.items()})\n",
    "sort_mes_plano = soma_mensagens_plano_mes.loc[sort_mes_plano.sort_values().index]\n",
    "sort_mes_plano = soma_mensagens_plano_mes.reset_index(drop=True)\n",
    "\n",
    "plano_surf_msg = sort_mes_plano[sort_mes_plano['plan_name'] == 'surf']\n",
    "plano_ultimate_msg = sort_mes_plano[sort_mes_plano['plan_name'] == 'ultimate']\n",
    "\n",
    "bar_width = 0.4\n",
    "indice = np.arange(len(plano_surf_msg['mes']))\n",
    "\n",
    "plt.figure(figsize=(16, 6))\n",
    "\n",
    "plt.bar(indice, plano_surf_msg['mensagens'], width=bar_width, label='Surf', alpha=0.7, color='green')\n",
    "plt.bar(indice + bar_width, plano_ultimate_msg['mensagens'], width=bar_width, label='Ultimate', alpha=0.7, color='blue')\n",
    "\n",
    "plt.xlabel('Meses')\n",
    "plt.ylabel('Quantidade de mensagens')\n",
    "plt.title('Quantidade de Mensagens (por mês e planos)')\n",
    "plt.xticks(indice + bar_width, plano_surf_msg['mes'], rotation = 45)\n",
    "plt.legend()\n",
    "\n",
    "plt.show()"
   ]
  },
  {
   "cell_type": "code",
   "execution_count": 34,
   "metadata": {
    "id": "fIVdRuT6uj8v"
   },
   "outputs": [
    {
     "data": {
      "image/png": "[encoded data removed]",
      "text/plain": [
       "<Figure size 1200x600 with 1 Axes>"
      ]
     },
     "metadata": {},
     "output_type": "display_data"
    }
   ],
   "source": [
    "# Histograma\n",
    "mensagens_plano_mes = df_completo.groupby('plan_name')['mensagens'].hist(alpha=0.7, bins=30, figsize=(12, 6))\n",
    "\n",
    "plt.xlabel('Quantidade de Mensagens')\n",
    "plt.ylabel('Frequência')\n",
    "plt.title('Comparação do uso de mensagens por plano e mês')\n",
    "plt.legend(['Surf', 'Ultimate'])\n",
    "\n",
    "plt.show()"
   ]
  },
  {
   "cell_type": "markdown",
   "metadata": {
    "id": "v6QELMtcuj8v"
   },
   "source": [
    "<div class=\"alert alert-block alert-info\">\n",
    "<b>Observações:</b> <a class=\"tocSkip\"></a>\n",
    "\n",
    "O comportamento dos usuários de cada plano é visivelmente diferente. Apesar de haver um aumento gradativo a cada mês em ambos os planos é possível notar uma diferença significativamente maior no volume de mensagens usadas pelos usuários do plano \"Surf\" em relação aos do plano \"Ultimate\", ainda que as médias sejam parecidas.\n",
    "\n",
    "</div>"
   ]
  },
  {
   "cell_type": "markdown",
   "metadata": {
    "id": "nHUCwAnauj8w"
   },
   "source": [
    "### Comportamento do usuário: Uso de dados de internet"
   ]
  },
  {
   "cell_type": "code",
   "execution_count": 35,
   "metadata": {
    "id": "EEm27RaRuj8w"
   },
   "outputs": [
    {
     "data": {
      "image/png": "[encoded data removed]",
      "text/plain": [
       "<Figure size 1600x600 with 1 Axes>"
      ]
     },
     "metadata": {},
     "output_type": "display_data"
    }
   ],
   "source": [
    "# Compare a quantidade de tráfego de internet consumido pelos usuários por plano\n",
    "consumo_internet_plano_mes = df_completo.groupby(['plan_name', 'mes'])['volume_gb'].sum().reset_index()\n",
    "\n",
    "meses_lista = {1: 'Janeiro', 2: 'Fevereiro', 3: 'Março', 4: 'Abril', 5: 'Maio', 6: 'Junho', 7: 'Julho', 8: 'Agosto', 9: 'Setembro', 10: 'Outubro', 11: 'Novembro', 12: 'Dezembro', }\n",
    "\n",
    "consumo_internet_plano_mes['mes'] = consumo_internet_plano_mes['mes'].map(meses_lista)\n",
    "sort_mes_internet_plano = consumo_internet_plano_mes['mes'].map({mes: num for num, mes in meses_lista.items()})\n",
    "sort_mes_internet_plano = consumo_internet_plano_mes.loc[sort_mes_plano.sort_values(by='mes').index]\n",
    "sort_mes_internet_plano = consumo_internet_plano_mes.reset_index(drop=True)\n",
    "\n",
    "plano_surf_internet = sort_mes_internet_plano[sort_mes_internet_plano['plan_name'] == 'surf']\n",
    "plano_ultimate_internet = sort_mes_internet_plano[sort_mes_internet_plano['plan_name'] == 'ultimate']\n",
    "\n",
    "bar_width = 0.4\n",
    "indice = np.arange(len(plano_surf_internet['mes']))\n",
    "\n",
    "plt.figure(figsize=(16, 6)) \n",
    "\n",
    "plt.bar(indice, plano_surf_internet['volume_gb'], width=bar_width, label='Surf', alpha=0.7, color='green')\n",
    "plt.bar(indice + bar_width, plano_ultimate_internet['volume_gb'], width=bar_width, label='Ultimate', alpha=0.7, color='blue')\n",
    "\n",
    "plt.xlabel('Meses')\n",
    "plt.ylabel('Volume de dados')\n",
    "plt.title('Comparação de consumo de dados de internet (por mês e planos)')\n",
    "plt.xticks(indice + bar_width, plano_surf_internet['mes'], rotation = 45)\n",
    "plt.legend()\n",
    "\n",
    "plt.show()"
   ]
  },
  {
   "cell_type": "code",
   "execution_count": 36,
   "metadata": {
    "id": "Detb0wIZuj8w"
   },
   "outputs": [
    {
     "data": {
      "image/png": "[encoded data removed]",
      "text/plain": [
       "<Figure size 1200x600 with 1 Axes>"
      ]
     },
     "metadata": {},
     "output_type": "display_data"
    }
   ],
   "source": [
    "# Histograma\n",
    "mean_volume_gb = df_completo.groupby('plan_name')['volume_gb'].mean()\n",
    "\n",
    "# Criando o histograma\n",
    "volume_mb_plano_mes = df_completo.groupby('plan_name')['volume_gb'].hist(alpha=0.7, bins=40, figsize=(12, 6))\n",
    "\n",
    "colors = ['b', 'r']\n",
    "\n",
    "# Adicionando linhas de média para cada plano com cores diferentes\n",
    "for i, (plan_name, mean_volume) in enumerate(mean_volume_gb.items()):\n",
    "    plt.axvline(mean_volume, color=colors[i], linestyle='--', label=f'Média {plan_name}: {mean_volume:.2f} GB')\n",
    "\n",
    "plt.xlabel('Volume de dados de internet (em GB)')\n",
    "plt.ylabel('Frequência')\n",
    "plt.title('Comparação do volume de dados de internet usados por plano e mês (em GB)')\n",
    "plt.legend(['Surf', 'Ultimate'])\n",
    "plt.legend()\n",
    "\n",
    "plt.show()"
   ]
  },
  {
   "cell_type": "markdown",
   "metadata": {
    "id": "GsHkFpGmuj8w"
   },
   "source": [
    "<div class=\"alert alert-block alert-info\">\n",
    "<b>Observações:</b> <a class=\"tocSkip\"></a>\n",
    "\n",
    "O comportamento dos usuários de cada plano em relação ao consumo de dados de internet também é visivelmente diferente. Aqui também há um aumento gradativo a cada mês em ambos os planos e também o consumo é significativamente maior pelos usuários do plano \"Surf\", as médias permanecem semelhantes.\n",
    "\n",
    "</div>"
   ]
  },
  {
   "cell_type": "markdown",
   "metadata": {
    "id": "g23qXaYNuj8x"
   },
   "source": [
    "## Receita"
   ]
  },
  {
   "cell_type": "code",
   "execution_count": 37,
   "metadata": {
    "id": "CGuBwYRyuj8y"
   },
   "outputs": [
    {
     "data": {
      "image/png": "[encoded data removed]",
      "text/plain": [
       "<Figure size 1600x600 with 1 Axes>"
      ]
     },
     "metadata": {},
     "output_type": "display_data"
    }
   ],
   "source": [
    "# Compare a receita mensal por usuários por plano\n",
    "receita_plano_mes = df_completo.groupby(['plan_name', 'mes'])['receita_mensal'].sum().reset_index()\n",
    "\n",
    "meses_lista = {1: 'Janeiro', 2: 'Fevereiro', 3: 'Março', 4: 'Abril', 5: 'Maio', 6: 'Junho', 7: 'Julho', 8: 'Agosto', 9: 'Setembro', 10: 'Outubro', 11: 'Novembro', 12: 'Dezembro', }\n",
    "\n",
    "receita_plano_mes['mes'] = receita_plano_mes['mes'].map(meses_lista)\n",
    "sort_receita_plano = receita_plano_mes['mes'].map({mes: num for num, mes in meses_lista.items()})\n",
    "sort_receita_plano = receita_plano_mes.loc[sort_mes_plano.sort_values(by='mes').index]\n",
    "sort_receita_plano = receita_plano_mes.reset_index(drop=True)\n",
    "\n",
    "plano_surf_receita = sort_receita_plano[sort_receita_plano['plan_name'] == 'surf']\n",
    "plano_ultimate_receita = sort_receita_plano[sort_receita_plano['plan_name'] == 'ultimate']\n",
    "\n",
    "bar_width = 0.4\n",
    "indice = np.arange(len(plano_surf_receita['mes']))\n",
    "\n",
    "plt.figure(figsize=(16, 6)) \n",
    "\n",
    "plt.bar(indice, plano_surf_receita['receita_mensal'], width=bar_width, label='Surf', alpha=0.7, color='green')\n",
    "plt.bar(indice + bar_width, plano_ultimate_receita['receita_mensal'], width=bar_width, label='Ultimate', alpha=0.7, color='blue')\n",
    "\n",
    "plt.xlabel('Meses')\n",
    "plt.ylabel('Valores totais em dólares')\n",
    "plt.title('Receita Mensal por Plano')\n",
    "plt.xticks(indice + bar_width, plano_surf_receita['mes'], rotation = 45)\n",
    "plt.legend()\n",
    "\n",
    "plt.show()"
   ]
  },
  {
   "cell_type": "markdown",
   "metadata": {
    "id": "6X34EwHpuj8z"
   },
   "source": [
    "<div class=\"alert alert-block alert-info\">\n",
    "<b>Observações:</b> <a class=\"tocSkip\"></a>\n",
    "\n",
    "As receitas de ambos os planos tem um aumento gradativo durante o ano. Podemos notar também que as receitas geradas pelo plano \"Ultimate\" são significativamente maiores a partir do 2º trimestre.\n",
    "\n",
    "</div>"
   ]
  },
  {
   "cell_type": "markdown",
   "metadata": {
    "id": "xJ6Mu-KAuj8z"
   },
   "source": [
    "### TESTE ESTATÍSTICO DE HIPOTESES:"
   ]
  },
  {
   "cell_type": "markdown",
   "metadata": {
    "id": "lop_0j4Duj8z"
   },
   "source": [
    "<div class=\"alert alert-block alert-info\">\n",
    "<b>TESTE DE HIPÓTESE 1</b> <a class=\"tocSkip\"></a>\n",
    "\n",
    "* A Hipótese Nula (H0) afirma que: As receitas médias dos usuários dos planos de chamadas 'Ultimate' e 'Surf' são IGUAIS.\n",
    "* A Hipótese Alternativa (H1) afirma que: As receitas médias dos usuários dos planos de chamadas 'Ultimate' e 'Surf' são DIFERENTES.\n",
    "\n",
    "</div>"
   ]
  },
  {
   "cell_type": "code",
   "execution_count": 38,
   "metadata": {
    "id": "LyGrPhpUuj80"
   },
   "outputs": [
    {
     "name": "stdout",
     "output_type": "stream",
     "text": [
      "\n",
      "Receita Total Plano Ultimate: 51923.9\n",
      "Receita Total para o Plano Surf: 90131.42\n",
      "\n",
      "Média paga por Plano Ultimate: 72.12\n",
      "Média paga por Plano Surf: 57.3\n",
      "\n",
      "Variância Plano Ultimate: 116.1\n",
      "Variância Plano Surf: 2888.29\n",
      "\n",
      "Desvio Padrão Plano Ultimate: 10.77\n",
      "Desvio Padrão Plano Surf: 53.74\n",
      "\n"
     ]
    },
    {
     "data": {
      "image/png": "[encoded data removed]",
      "text/plain": [
       "<Figure size 1200x400 with 1 Axes>"
      ]
     },
     "metadata": {},
     "output_type": "display_data"
    },
    {
     "name": "stdout",
     "output_type": "stream",
     "text": [
      "Resultado do Teste de Hipótese:\n",
      "\n",
      "P-Valor : 5.137254241381237e-25\n",
      "\n",
      "Rejeitamos a hipótese nula.\n",
      "\n",
      "Há evidências suficientes para suportar a HIPÓTESE ALTERNATIVA de que as receitas médias dos usuários dos planos Ultimate e Surf são diferentes.\n",
      "\n",
      "Hipótese Nula (H0): As receitas médias dos usuários dos planos Ultimate e Surf são IGUAIS.\n",
      "Hipótese Alternativa (H1): As receitas médias dos usuários dos planos Ultimate e Surf são DIFERENTES.\n"
     ]
    }
   ],
   "source": [
    "# Dados filtrados dos planos\n",
    "df_ultimate = df_completo[df_completo['plan_name'] == 'ultimate']\n",
    "df_surf = df_completo[df_completo['plan_name'] == 'surf']\n",
    "\n",
    "# Receita total para cada plano\n",
    "receita_total_ultimate = df_ultimate['receita_mensal'].sum()\n",
    "receita_total_surf = df_surf['receita_mensal'].sum()\n",
    "\n",
    "# Média paga por mês para cada plano\n",
    "media_pagamento_por_mes_ultimate = df_ultimate['receita_mensal'].mean()\n",
    "media_pagamento_por_mes_surf = df_surf['receita_mensal'].mean()\n",
    "\n",
    "# Variância para cada plano\n",
    "variancia_ultimate = df_ultimate['receita_mensal'].var()\n",
    "variancia_surf = df_surf['receita_mensal'].var()\n",
    "\n",
    "# Desvio padrão para cada plano\n",
    "desvio_padrao_ultimate = df_ultimate['receita_mensal'].std()\n",
    "desvio_padrao_surf = df_surf['receita_mensal'].std()\n",
    "\n",
    "# Arredondamento dos resultados\n",
    "receita_total_ultimate = round(receita_total_ultimate, 2)\n",
    "receita_total_surf = round(receita_total_surf, 2)\n",
    "\n",
    "media_pagamento_por_mes_ultimate = round(media_pagamento_por_mes_ultimate, 2)\n",
    "media_pagamento_por_mes_surf = round(media_pagamento_por_mes_surf, 2)\n",
    "\n",
    "variancia_ultimate = round(variancia_ultimate, 2)\n",
    "variancia_surf = round(variancia_surf, 2)\n",
    "\n",
    "desvio_padrao_ultimate = round(desvio_padrao_ultimate, 2)\n",
    "desvio_padrao_surf = round(desvio_padrao_surf, 2)\n",
    "\n",
    "print()\n",
    "print(\"Receita Total Plano Ultimate:\", receita_total_ultimate)\n",
    "print(\"Receita Total para o Plano Surf:\", receita_total_surf)\n",
    "print()\n",
    "print(\"Média paga por Plano Ultimate:\", media_pagamento_por_mes_ultimate)\n",
    "print(\"Média paga por Plano Surf:\", media_pagamento_por_mes_surf)\n",
    "print()\n",
    "print(\"Variância Plano Ultimate:\", variancia_ultimate)\n",
    "print(\"Variância Plano Surf:\", variancia_surf)\n",
    "print()\n",
    "print(\"Desvio Padrão Plano Ultimate:\", desvio_padrao_ultimate)\n",
    "print(\"Desvio Padrão Plano Surf:\", desvio_padrao_surf)\n",
    "print()\n",
    "\n",
    "# Gráfico com receita total dos planos\n",
    "receita_total_por_plano = df_completo.groupby('plan_name')['receita_mensal'].mean()\n",
    "\n",
    "cores = ['green', 'blue']\n",
    "plt.figure(figsize=(12, 4)) \n",
    "\n",
    "plt.bar(receita_total_por_plano.index, receita_total_por_plano.values, color=cores)\n",
    "\n",
    "plt.xlabel('Plano')\n",
    "plt.ylabel('Receita Média')\n",
    "plt.title('Receita Média por Plano')\n",
    "plt.show()\n",
    "\n",
    "# Teste de Hipótese (Teste t)\n",
    "# Filtro de dados para cada plano\n",
    "dados_ultimate = df_completo[df_completo['plan_name'] == 'ultimate']['receita_mensal']\n",
    "dados_surf = df_completo[df_completo['plan_name'] == 'surf']['receita_mensal']\n",
    "\n",
    "# Teste t de Student para comparar as médias\n",
    "t_statistic, p_value = st.ttest_ind(dados_ultimate, dados_surf, equal_var=False)\n",
    "alpha = 0.05\n",
    "\n",
    "# Imprimir os resultados do teste de hipótese\n",
    "print(\"Resultado do Teste de Hipótese:\")\n",
    "print()\n",
    "print(\"P-Valor :\", p_value)\n",
    "print()\n",
    "\n",
    "# Verificar se o valor p é menor que alfa para rejeitar a hipótese nula\n",
    "if p_value < alpha:\n",
    "    print(\"Rejeitamos a hipótese nula.\")\n",
    "    print()\n",
    "    print(\"Há evidências suficientes para suportar a HIPÓTESE ALTERNATIVA de que as receitas médias dos usuários dos planos Ultimate e Surf são diferentes.\")\n",
    "    print()\n",
    "    print(\"Hipótese Nula (H0): As receitas médias dos usuários dos planos Ultimate e Surf são IGUAIS.\")\n",
    "    print(\"Hipótese Alternativa (H1): As receitas médias dos usuários dos planos Ultimate e Surf são DIFERENTES.\")\n",
    "else:\n",
    "    print(\"Não rejeitamos a hipótese nula.\")\n",
    "    print()\n",
    "    print(\"Não há evidências suficientes para afirmar que as receitas médias dos usuários dos planos Ultimate e Surf são diferentes.\")\n",
    "    print()\n",
    "    print(\"Hipótese Nula (H0): As receitas médias dos usuários dos planos Ultimate e Surf são IGUAIS.\")\n",
    "    print(\"Hipótese Alternativa (H1): As receitas médias dos usuários dos planos Ultimate e Surf são DIFERENTES.\")\n",
    "    "
   ]
  },
  {
   "cell_type": "markdown",
   "metadata": {},
   "source": [
    "<div class=\"alert alert-block alert-info\">\n",
    "<b>OBSERVAÇÕES DO TESTE DE HIPÓTESE 1</b> <a class=\"tocSkip\"></a>\n",
    "\n",
    "* A Hipótese Nula (H0) afirma que: As receitas médias dos usuários dos planos de chamadas 'Ultimate' e 'Surf' são IGUAIS.\n",
    "* A Hipótese Alternativa (H1) afirma que: As receitas médias dos usuários dos planos de chamadas 'Ultimate' e 'Surf' são DIFERENTES.\n",
    "\n",
    "No código abaixo realizamos um Test T de Student para verificar a igualdade nas receitas médias dos planos em amostras independentes, definimos a significância alfa em 0,05 e a comparamos com o valor-p. Caso o valor-p seja menor que a significância de 5%, a hipótese nula será rejeitada, caso contrário o teste apontará que não há evidências para rejeitá-la e acataremos a hipótese alternativa.\n",
    "\n",
    "É importante ressaltar que, embora não tenhamos encontrado evidências suficientes para afirmar que as receitas médias são diferentes, isso não significa necessariamente que os planos são iguais em termos de rentabilidade ou popularidade. Outros fatores podem estar influenciando as diferenças observadas nos resultados da receita total e da média paga por mês, como o número de assinantes em cada plano, as características dos serviços oferecidos, entre outros.\n",
    "\n",
    "</div>"
   ]
  },
  {
   "cell_type": "markdown",
   "metadata": {
    "id": "kMHim5__uj80"
   },
   "source": [
    "<div class=\"alert alert-success\">\n",
    "<b>TESTE DE HIPÓTESE 2</b> <a class=\"tocSkip\"></a>\n",
    "\n",
    "* A Hipótese Nula (H0) afirma que: A receita média dos usuários da área de NY-NJ é IGUAL à receita média das demais regiões.\n",
    "* A Hipótese Alternativa (H1) afirma que: A receita média dos usuários da área de NY-NJ DIFERE da receita média das demais regiões.\n",
    "\n",
    "</div>"
   ]
  },
  {
   "cell_type": "code",
   "execution_count": 39,
   "metadata": {
    "id": "98t8iiJyuj80"
   },
   "outputs": [
    {
     "name": "stdout",
     "output_type": "stream",
     "text": [
      "\n",
      "Receita Total NY-NY: 21563.79\n",
      "Receita Total Demais Regiões: 120491.52\n",
      "\n",
      "Média paga NY-NY: 57.2\n",
      "Média paga Demais Regiões: 62.89\n",
      "\n",
      "Variância NY-NY: 1778.42\n",
      "Variância Demais Regiões: 2116.67\n",
      "\n",
      "Desvio Padrão NY-NY: 42.17\n",
      "Desvio Padrão Demais Regiões: 46.01\n",
      "\n"
     ]
    },
    {
     "data": {
      "image/png": "[encoded data removed]",
      "text/plain": [
       "<Figure size 1200x600 with 1 Axes>"
      ]
     },
     "metadata": {},
     "output_type": "display_data"
    },
    {
     "name": "stdout",
     "output_type": "stream",
     "text": [
      "Resultado do Teste de Hipótese:\n",
      "\n",
      "P-Valor:  0.018732557427851213\n",
      "\n",
      "Rejeitamos a hipótese nula.\n",
      "\n",
      "Há evidências suficientes para suportar a HIPÓTESE ALTERNATIVA de que as receitas médias dos usuários da área de NY-NJ diferem da receita média das demais regiões.\n",
      "\n",
      "Hipótese Nula (H0): A receita média dos usuários da área de NY-NJ é IGUAL à receita média das demais regiões.\n",
      "Hipótese Alternativa (H1): A receita média dos usuários da área de NY-NJ é DIFERENTE da receita média das demais regiões.\n"
     ]
    }
   ],
   "source": [
    "# Filtro dos dados para usuários da área de NY-NJ e demais regiões\n",
    "ny_nj_receita = df_completo[df_completo['city'] == 'new york-newark-jersey city']\n",
    "outras_regioes_receita = df_completo[df_completo['city'] != 'new york-newark-jersey city']\n",
    "\n",
    "# Receita total para cada plano\n",
    "receita_total_nynj = ny_nj_receita['receita_mensal'].sum()\n",
    "receita_total_demais = outras_regioes_receita['receita_mensal'].sum()\n",
    "\n",
    "# Média paga por mês para cada plano\n",
    "media_pagamento_nynj = ny_nj_receita['receita_mensal'].mean()\n",
    "media_pagamento_demais = outras_regioes_receita['receita_mensal'].mean()\n",
    "\n",
    "# Variância para cada plano\n",
    "variancia_nynj = ny_nj_receita['receita_mensal'].var()\n",
    "variancia_demais = outras_regioes_receita['receita_mensal'].var()\n",
    "\n",
    "# Desvio padrão para cada plano\n",
    "desvio_padrao_nynj = ny_nj_receita['receita_mensal'].std()\n",
    "desvio_padrao_demais = outras_regioes_receita['receita_mensal'].std()\n",
    "\n",
    "# Arredondamento dos resultados\n",
    "receita_total_nynj = round(receita_total_nynj, 2)\n",
    "receita_total_demais = round(receita_total_demais, 2)\n",
    "\n",
    "media_pagamento_nynj = round(media_pagamento_nynj, 2)\n",
    "media_pagamento_demais = round(media_pagamento_demais, 2)\n",
    "\n",
    "variancia_nynj = round(variancia_nynj, 2)\n",
    "variancia_demais = round(variancia_demais, 2)\n",
    "\n",
    "desvio_padrao_nynj = round(desvio_padrao_nynj, 2)\n",
    "desvio_padrao_demais = round(desvio_padrao_demais, 2)\n",
    "\n",
    "print()\n",
    "print(\"Receita Total NY-NY:\", receita_total_nynj)\n",
    "print(\"Receita Total Demais Regiões:\", receita_total_demais)\n",
    "print()\n",
    "print(\"Média paga NY-NY:\", media_pagamento_nynj)\n",
    "print(\"Média paga Demais Regiões:\", media_pagamento_demais)\n",
    "print()\n",
    "print(\"Variância NY-NY:\", variancia_nynj)\n",
    "print(\"Variância Demais Regiões:\", variancia_demais)\n",
    "print()\n",
    "print(\"Desvio Padrão NY-NY:\", desvio_padrao_nynj)\n",
    "print(\"Desvio Padrão Demais Regiões:\", desvio_padrao_demais)\n",
    "print()\n",
    "\n",
    "# Teste de Hipótese (Teste t)\n",
    "# Filtro de dados para cada plano\n",
    "dados_nynj = df_completo[df_completo['city'] == 'new york-newark-jersey city']['receita_mensal']\n",
    "dados_demais = df_completo[df_completo['city'] != 'new york-newark-jersey city']['receita_mensal']\n",
    "\n",
    "# Teste t de Student para comparar as médias\n",
    "t_statistic, p_value = st.ttest_ind(dados_nynj, dados_demais, equal_var=False)\n",
    "alpha = 0.05\n",
    "\n",
    "# Preparando os dados para o gráfico\n",
    "regioes = ['NY-NJ', 'Outras Regiões']\n",
    "medias = [media_pagamento_nynj.mean(), media_pagamento_demais.mean()]\n",
    "\n",
    "# Gráfico de barras\n",
    "plt.figure(figsize=(12, 6)) \n",
    "\n",
    "plt.bar(regioes, medias, color=['blue', 'green'])\n",
    "plt.xlabel('Regiões')\n",
    "plt.ylabel('Receitas Médias')\n",
    "plt.title('Comparação de Receitas Médias (NY-NJ X Demais Regiões)')\n",
    "plt.show()\n",
    "\n",
    "# Imprimir os resultados do teste de hipótese\n",
    "print(\"Resultado do Teste de Hipótese:\")\n",
    "print()\n",
    "print(\"P-Valor: \", p_value)\n",
    "print()\n",
    "\n",
    "# Verificando se a hipótese nula é rejeitada\n",
    "if p_value < alpha:\n",
    "    print(\"Rejeitamos a hipótese nula.\")\n",
    "    print()\n",
    "    print(\"Há evidências suficientes para suportar a HIPÓTESE ALTERNATIVA de que as receitas médias dos usuários da área de NY-NJ diferem da receita média das demais regiões.\")\n",
    "    print()\n",
    "    print(\"Hipótese Nula (H0): A receita média dos usuários da área de NY-NJ é IGUAL à receita média das demais regiões.\")\n",
    "    print(\"Hipótese Alternativa (H1): A receita média dos usuários da área de NY-NJ é DIFERENTE da receita média das demais regiões.\")\n",
    "else:\n",
    "    print(\"Não rejeitamos a hipótese nula.\")\n",
    "    print()\n",
    "    print(\"Não há evidências suficientes para afirmar que a receita média dos usuários da área de NY-NJ DIFERE da receita média das demais regiões.\")\n",
    "    print()\n",
    "    print(\"Hipótese Nula (H0): A receita média dos usuários da área de NY-NJ é IGUAL à receita média das demais regiões.\")\n",
    "    print(\"Hipótese Alternativa (H1): A receita média dos usuários da área de NY-NJ é DIFERENTE da receita média das demais regiões.\")\n",
    "    "
   ]
  },
  {
   "cell_type": "markdown",
   "metadata": {},
   "source": [
    "<div class=\"alert alert-success\">\n",
    "<b>OBSERVAÇÕES DO TESTE DE HIPÓTESE 2</b> <a class=\"tocSkip\"></a>\n",
    "\n",
    "* A Hipótese Nula (H0) afirma que: A receita média dos usuários da área de NY-NJ é IGUAL à receita média das demais regiões.\n",
    "* A Hipótese Alternativa (H1) afirma que: A receita média dos usuários da área de NY-NJ DIFERE da receita média das demais regiões.\n",
    "\n",
    "No código abaixo realizamos um Test T de Student para verificar a igualdade nas receitas médias dos planos em amostras independentes e para isso filtramos os dados da coluna 'state' em: iguais a 'ny-nj' e diferentes a 'ny-nj', definimos a significância alfa em 0,05 e a comparamos com o valor-p. Caso o valor-p seja menor que a significância de 5%, a hipótese nula será rejeitada, caso contrário o teste apontará que não há evidências para rejeitá-la e acataremos a hipótese alternativa.\n",
    "\n",
    "</div>"
   ]
  },
  {
   "cell_type": "markdown",
   "metadata": {
    "id": "M8WycwWFuj81"
   },
   "source": [
    "## CONCLUSÃO:\n",
    "\n",
    "<div class=\"alert alert-block alert-info\">\n",
    "<b>COMPORTAMENTO DOS USUÁRIOS</b>\n",
    "\n",
    "<b>CHAMADAS:</b>\n",
    "Ambos os planos têm uma média de uso de minutos em torno de 400 minutos, indicando um equilíbrio nesse aspecto.\n",
    "O plano Surf tem um volume maior de minutos utilizados, mas as médias permanecem semelhantes entre os dois planos.\n",
    "\n",
    "<b>MENSAGENS:</b>\n",
    "Os usuários do plano Surf usam significativamente mais mensagens do que os usuários do plano Ultimate, apesar das médias serem semelhantes.\n",
    "\n",
    "<b>INTERNET:</b>\n",
    "Assim como nas chamadas, o uso de dados de internet é significativamente maior pelos usuários do plano Surf, apesar das médias serem semelhantes.\n",
    "\n",
    "<b>RECEITA:</b>\n",
    "As receitas de ambos os planos aumentam gradualmente ao longo do ano, sendo que a receita do plano 'Ultimate' é consistentemente maior que a do plano 'Surf', chegando a dobrar a partir do 2º semestre.\n",
    "\n",
    "<b>TESTES DE HIPÓTESES:</b>\n",
    "\n",
    "- Teste de Hipótese 1: Realizamos o Teste T Student com amostras independentes neste caso e o resultado do teste REJEITOU a hipótese nula, indicando que as receitas médias dos usuários dos planos Ultimate e Surf são DIFERENTES, confirmando a observação de que a receita do plano 'Ultimate' é majoritariamente maior que a do plano 'Surf'.\n",
    "\n",
    "- Teste de Hipótese 2: Realizamos o Teste T Student com amostras independentes neste caso e o resultado do teste também REJEITOU a hipótese nula, indicando que a receita média dos usuários da área de NY-NJ É DIFERENTE da receita média das demais regiões.\n",
    "\n",
    "<b>INSIGHTS:</b>\n",
    "    \n",
    "Analisando os três serviços oferecidos pela empresa dentro de dois planos distintos, chegamos à conclusão de que os usuários do plano 'Surf' demandam muito mais da empresa, no entanto, geram menos receita do que os usuários do plano 'Ultimate'.\n",
    "\n",
    "Com estes dados, a equipe de marketing pode ajustar seus orçamentos para favorecer o plano 'Ultimate', que gera mais receita e demanda menos serviço. A empresa pode se valer também dos dados e criar, por exemplo, novos planos intermediários e/ou ainda ajustar os planos atuais.\n",
    "\n",
    "Essas conclusões são fundamentais para entender as tendências de comportamento dos usuários de cada plano e podem orientar novas estratégias na adequação nos produtos e serviços em curso e no desenvolvimento de novos produtos para a empresa.\n",
    "</div>\n"
   ]
  }
 ],
 "metadata": {
  "ExecuteTimeLog": [
   {
    "duration": 828,
    "start_time": "2021-11-16T09:21:11.304Z"
   },
   {
    "duration": 893,
    "start_time": "2021-11-16T09:21:17.728Z"
   },
   {
    "duration": 1150,
    "start_time": "2021-11-16T09:21:29.568Z"
   },
   {
    "duration": 3,
    "start_time": "2021-11-16T09:24:14.495Z"
   },
   {
    "duration": 120,
    "start_time": "2021-11-16T09:24:46.630Z"
   },
   {
    "duration": 3,
    "start_time": "2021-11-16T09:28:27.882Z"
   },
   {
    "duration": 4,
    "start_time": "2021-11-16T09:29:54.281Z"
   },
   {
    "duration": 3,
    "start_time": "2021-11-16T09:30:45.936Z"
   },
   {
    "duration": 4,
    "start_time": "2021-11-16T09:31:06.300Z"
   },
   {
    "duration": 113,
    "start_time": "2021-11-16T09:31:37.208Z"
   },
   {
    "duration": 143,
    "start_time": "2021-11-16T09:31:48.656Z"
   },
   {
    "duration": 98,
    "start_time": "2021-11-16T09:31:55.678Z"
   },
   {
    "duration": 3,
    "start_time": "2021-11-16T09:32:08.535Z"
   },
   {
    "duration": 111,
    "start_time": "2021-11-16T09:32:10.120Z"
   },
   {
    "duration": 3,
    "start_time": "2021-11-16T09:32:15.732Z"
   },
   {
    "duration": 4,
    "start_time": "2021-11-16T09:32:29.423Z"
   },
   {
    "duration": 3,
    "start_time": "2021-11-16T10:03:03.074Z"
   },
   {
    "duration": 3,
    "start_time": "2021-11-16T10:10:01.288Z"
   },
   {
    "duration": 3,
    "start_time": "2021-11-16T10:10:46.923Z"
   },
   {
    "duration": 121,
    "start_time": "2021-11-16T10:37:46.494Z"
   },
   {
    "duration": 125,
    "start_time": "2021-11-16T10:38:20.632Z"
   },
   {
    "duration": 112,
    "start_time": "2021-11-16T10:46:53.001Z"
   },
   {
    "duration": 110,
    "start_time": "2021-11-16T10:48:25.775Z"
   },
   {
    "duration": 3,
    "start_time": "2021-11-16T10:50:18.720Z"
   },
   {
    "duration": 4,
    "start_time": "2021-11-16T10:50:37.649Z"
   },
   {
    "duration": 2,
    "start_time": "2021-11-16T10:50:51.884Z"
   },
   {
    "duration": 3,
    "start_time": "2021-11-16T10:51:56.237Z"
   },
   {
    "duration": 101,
    "start_time": "2021-11-16T10:53:13.791Z"
   },
   {
    "duration": 3,
    "start_time": "2021-11-16T10:55:59.186Z"
   },
   {
    "duration": 3,
    "start_time": "2021-11-16T10:56:10.751Z"
   },
   {
    "duration": 3,
    "start_time": "2021-11-16T10:56:49.038Z"
   },
   {
    "duration": 3,
    "start_time": "2021-11-16T10:56:49.174Z"
   },
   {
    "duration": 4,
    "start_time": "2021-11-16T10:56:49.414Z"
   },
   {
    "duration": 3,
    "start_time": "2021-11-16T10:56:49.680Z"
   },
   {
    "duration": 3,
    "start_time": "2021-11-16T10:56:50.370Z"
   },
   {
    "duration": 114,
    "start_time": "2021-11-16T10:59:34.518Z"
   },
   {
    "duration": 3,
    "start_time": "2021-11-16T11:01:41.201Z"
   },
   {
    "duration": 116,
    "start_time": "2021-11-16T11:01:48.754Z"
   },
   {
    "duration": 3,
    "start_time": "2021-11-16T11:02:16.685Z"
   },
   {
    "duration": 3,
    "start_time": "2021-11-16T11:02:19.479Z"
   },
   {
    "duration": 3,
    "start_time": "2021-11-16T11:02:47.067Z"
   },
   {
    "duration": 3,
    "start_time": "2021-11-16T11:02:49.353Z"
   },
   {
    "duration": 3,
    "start_time": "2021-11-16T11:03:07.835Z"
   },
   {
    "duration": 3,
    "start_time": "2021-11-16T11:03:07.953Z"
   },
   {
    "duration": 112,
    "start_time": "2021-11-16T11:07:52.072Z"
   },
   {
    "duration": 187,
    "start_time": "2021-11-16T11:09:23.468Z"
   },
   {
    "duration": 4,
    "start_time": "2021-11-16T11:10:01.455Z"
   },
   {
    "duration": 3,
    "start_time": "2021-11-16T11:10:05.069Z"
   },
   {
    "duration": 4,
    "start_time": "2021-11-16T11:10:13.376Z"
   },
   {
    "duration": 3,
    "start_time": "2021-11-16T11:10:14.434Z"
   },
   {
    "duration": 3,
    "start_time": "2021-11-16T11:10:22.853Z"
   },
   {
    "duration": 4,
    "start_time": "2021-11-16T11:27:29.279Z"
   },
   {
    "duration": 4,
    "start_time": "2021-11-16T11:29:08.919Z"
   },
   {
    "duration": 118,
    "start_time": "2021-11-16T11:29:46.703Z"
   },
   {
    "duration": 437,
    "start_time": "2021-11-16T11:36:02.181Z"
   },
   {
    "duration": 157,
    "start_time": "2021-11-16T11:36:14.388Z"
   },
   {
    "duration": 207,
    "start_time": "2021-11-16T11:47:15.898Z"
   },
   {
    "duration": 3,
    "start_time": "2021-11-16T11:53:52.092Z"
   },
   {
    "duration": 3,
    "start_time": "2021-11-16T11:53:52.236Z"
   },
   {
    "duration": 3,
    "start_time": "2021-11-16T11:59:12.005Z"
   },
   {
    "duration": 112,
    "start_time": "2021-11-16T12:00:33.446Z"
   },
   {
    "duration": 3,
    "start_time": "2021-11-16T12:02:14.453Z"
   },
   {
    "duration": 3,
    "start_time": "2021-11-16T12:02:39.512Z"
   },
   {
    "duration": 106,
    "start_time": "2021-11-16T12:03:03.460Z"
   },
   {
    "duration": 3,
    "start_time": "2021-11-17T20:37:21.139Z"
   },
   {
    "duration": 3,
    "start_time": "2021-11-17T20:37:22.229Z"
   },
   {
    "duration": 3,
    "start_time": "2021-11-17T20:38:38.806Z"
   },
   {
    "duration": 3,
    "start_time": "2021-11-17T20:38:41.958Z"
   },
   {
    "duration": 3,
    "start_time": "2021-11-17T20:43:46.551Z"
   },
   {
    "duration": 4,
    "start_time": "2021-11-17T20:58:21.835Z"
   },
   {
    "duration": 3,
    "start_time": "2021-11-17T20:59:21.872Z"
   },
   {
    "duration": 4,
    "start_time": "2021-11-17T20:59:45.352Z"
   },
   {
    "duration": 4,
    "start_time": "2021-11-17T20:59:49.646Z"
   },
   {
    "duration": 159,
    "start_time": "2021-11-17T21:02:26.949Z"
   },
   {
    "duration": 3,
    "start_time": "2021-11-17T21:03:53.461Z"
   },
   {
    "duration": 3,
    "start_time": "2021-11-17T21:03:53.694Z"
   },
   {
    "duration": 3,
    "start_time": "2021-11-17T21:05:28.145Z"
   },
   {
    "duration": 116,
    "start_time": "2021-11-17T21:05:57.787Z"
   },
   {
    "duration": 3,
    "start_time": "2021-11-17T21:06:37.993Z"
   },
   {
    "duration": 3,
    "start_time": "2021-11-17T21:06:38.261Z"
   },
   {
    "duration": 3,
    "start_time": "2021-11-17T21:11:54.358Z"
   },
   {
    "duration": 3,
    "start_time": "2021-11-17T21:12:43.846Z"
   },
   {
    "duration": 4,
    "start_time": "2021-11-17T21:13:08.773Z"
   },
   {
    "duration": 3,
    "start_time": "2021-11-17T21:14:44.441Z"
   },
   {
    "duration": 3,
    "start_time": "2021-11-17T21:15:42.059Z"
   },
   {
    "duration": 4,
    "start_time": "2021-11-17T21:15:51.995Z"
   },
   {
    "duration": 3,
    "start_time": "2021-11-17T21:15:53.923Z"
   },
   {
    "duration": 3,
    "start_time": "2021-11-17T21:15:55.282Z"
   },
   {
    "duration": 3,
    "start_time": "2021-11-17T21:16:28.492Z"
   },
   {
    "duration": 3,
    "start_time": "2021-11-17T21:16:32.603Z"
   },
   {
    "duration": 3,
    "start_time": "2021-11-17T21:17:06.941Z"
   },
   {
    "duration": 98,
    "start_time": "2021-11-17T21:18:05.733Z"
   },
   {
    "duration": 4,
    "start_time": "2021-11-17T21:21:35.255Z"
   },
   {
    "duration": 3,
    "start_time": "2021-11-17T21:21:37.804Z"
   },
   {
    "duration": 4,
    "start_time": "2021-11-17T21:23:06.071Z"
   },
   {
    "duration": 3,
    "start_time": "2021-11-17T21:23:24.799Z"
   },
   {
    "duration": 3,
    "start_time": "2021-11-17T21:23:32.591Z"
   },
   {
    "duration": 98,
    "start_time": "2021-11-17T21:28:31.559Z"
   },
   {
    "duration": 3,
    "start_time": "2021-11-17T21:28:45.448Z"
   },
   {
    "duration": 3,
    "start_time": "2021-11-17T21:29:17.303Z"
   },
   {
    "duration": 3,
    "start_time": "2021-11-17T21:29:29.617Z"
   },
   {
    "duration": 3,
    "start_time": "2021-11-17T21:29:32.681Z"
   },
   {
    "duration": 3,
    "start_time": "2021-11-17T21:36:11.474Z"
   },
   {
    "duration": 3,
    "start_time": "2021-11-17T21:36:14.791Z"
   },
   {
    "duration": 3,
    "start_time": "2021-11-17T21:36:53.943Z"
   },
   {
    "duration": 3,
    "start_time": "2021-11-17T21:36:56.165Z"
   },
   {
    "duration": 4,
    "start_time": "2021-11-17T21:37:16.590Z"
   },
   {
    "duration": 3,
    "start_time": "2021-11-17T21:37:22.702Z"
   },
   {
    "duration": 4,
    "start_time": "2021-11-17T21:38:03.479Z"
   },
   {
    "duration": 3,
    "start_time": "2021-11-17T21:38:08.601Z"
   },
   {
    "duration": 3,
    "start_time": "2021-11-17T21:38:12.928Z"
   },
   {
    "duration": 3,
    "start_time": "2021-11-17T21:38:48.896Z"
   },
   {
    "duration": 2,
    "start_time": "2021-11-17T21:38:49.171Z"
   },
   {
    "duration": 4,
    "start_time": "2021-11-17T21:39:57.889Z"
   },
   {
    "duration": 3,
    "start_time": "2021-11-17T21:39:58.057Z"
   },
   {
    "duration": 3,
    "start_time": "2021-11-17T21:41:20.108Z"
   },
   {
    "duration": 3,
    "start_time": "2021-11-17T21:41:20.629Z"
   },
   {
    "duration": 3,
    "start_time": "2021-11-17T21:42:49.136Z"
   },
   {
    "duration": 3,
    "start_time": "2021-11-17T21:43:15.137Z"
   },
   {
    "duration": 4,
    "start_time": "2021-11-17T21:43:16.766Z"
   },
   {
    "duration": 4,
    "start_time": "2021-11-17T21:43:31.711Z"
   },
   {
    "duration": 3,
    "start_time": "2021-11-17T21:43:36.312Z"
   },
   {
    "duration": 4,
    "start_time": "2021-11-17T21:45:08.825Z"
   },
   {
    "duration": 4,
    "start_time": "2021-11-17T21:45:10.119Z"
   },
   {
    "duration": 4,
    "start_time": "2021-11-17T21:45:13.748Z"
   },
   {
    "duration": 3,
    "start_time": "2021-11-17T21:45:22.219Z"
   },
   {
    "duration": 3,
    "start_time": "2021-11-17T21:45:33.412Z"
   },
   {
    "duration": 2,
    "start_time": "2021-11-17T21:46:01.885Z"
   },
   {
    "duration": 3,
    "start_time": "2021-11-17T21:46:03.628Z"
   },
   {
    "duration": 107,
    "start_time": "2021-11-17T21:47:32.512Z"
   },
   {
    "duration": 103,
    "start_time": "2021-11-17T21:50:36.243Z"
   },
   {
    "duration": 3,
    "start_time": "2021-11-18T06:28:31.440Z"
   },
   {
    "duration": 3,
    "start_time": "2021-11-18T06:29:00.168Z"
   },
   {
    "duration": 3,
    "start_time": "2021-11-18T06:31:27.008Z"
   },
   {
    "duration": 2,
    "start_time": "2021-11-18T06:35:34.288Z"
   },
   {
    "duration": 2,
    "start_time": "2021-11-18T06:38:04.527Z"
   }
  ],
  "colab": {
   "provenance": []
  },
  "kernelspec": {
   "display_name": "Python 3 (ipykernel)",
   "language": "python",
   "name": "python3"
  },
  "language_info": {
   "codemirror_mode": {
    "name": "ipython",
    "version": 3
   },
   "file_extension": ".py",
   "mimetype": "text/x-python",
   "name": "python",
   "nbconvert_exporter": "python",
   "pygments_lexer": "ipython3",
   "version": "3.11.7"
  },
  "toc": {
   "base_numbering": 1,
   "nav_menu": {},
   "number_sections": true,
   "sideBar": true,
   "skip_h1_title": false,
   "title_cell": "Table of Contents",
   "title_sidebar": "Contents",
   "toc_cell": false,
   "toc_position": {
    "height": "calc(100% - 180px)",
    "left": "10px",
    "top": "150px",
    "width": "165px"
   },
   "toc_section_display": true,
   "toc_window_display": false
  }
 },
 "nbformat": 4,
 "nbformat_minor": 4
}
